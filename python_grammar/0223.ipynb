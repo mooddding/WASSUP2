{
 "cells": [
  {
   "cell_type": "code",
   "execution_count": null,
   "id": "a4613fda",
   "metadata": {},
   "outputs": [],
   "source": [
    "print('hello')"
   ]
  },
  {
   "cell_type": "markdown",
   "id": "a2d72039",
   "metadata": {},
   "source": [
    "print('hello') 여기는 설명하는 셀"
   ]
  },
  {
   "cell_type": "code",
   "execution_count": 3,
   "id": "c55c4383",
   "metadata": {},
   "outputs": [
    {
     "name": "stdout",
     "output_type": "stream",
     "text": [
      "x를 누르면 셀이 삭제 되고 z를 누르면 복구된다\n"
     ]
    }
   ],
   "source": [
    "print('x를 누르면 셀이 삭제 되고 z를 누르면 복구된다')"
   ]
  },
  {
   "cell_type": "code",
   "execution_count": 4,
   "id": "24d059f8",
   "metadata": {},
   "outputs": [
    {
     "name": "stdout",
     "output_type": "stream",
     "text": [
      "b를 누르면 셀이 추가 되고 선택 셀 위에 추가하고 싶다면 a를 누르면 된다\n"
     ]
    }
   ],
   "source": [
    "print('b를 누르면 셀이 추가 되고 선택 셀 위에 추가하고 싶다면 a를 누르면 된다')"
   ]
  },
  {
   "cell_type": "markdown",
   "id": "032300a6",
   "metadata": {},
   "source": [
    "## 마크다운으로 바꾸려면 m을 누르면 된다"
   ]
  },
  {
   "cell_type": "markdown",
   "id": "82e5d1dc",
   "metadata": {},
   "source": [
    "## 다시 code로 돌아가려면 y를 누른다"
   ]
  },
  {
   "cell_type": "code",
   "execution_count": null,
   "id": "ee1b0c27",
   "metadata": {},
   "outputs": [],
   "source": []
  }
 ],
 "metadata": {
  "kernelspec": {
   "display_name": "Python 3 (ipykernel)",
   "language": "python",
   "name": "python3"
  },
  "language_info": {
   "codemirror_mode": {
    "name": "ipython",
    "version": 3
   },
   "file_extension": ".py",
   "mimetype": "text/x-python",
   "name": "python",
   "nbconvert_exporter": "python",
   "pygments_lexer": "ipython3",
   "version": "3.10.9"
  }
 },
 "nbformat": 4,
 "nbformat_minor": 5
}
