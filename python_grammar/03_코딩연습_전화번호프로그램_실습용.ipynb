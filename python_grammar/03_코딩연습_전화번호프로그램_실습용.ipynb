{
 "cells": [
  {
   "cell_type": "markdown",
   "metadata": {},
   "source": [
    "# 전화번호 프로그램 만들기\n",
    "\n",
    "* 홍길동 010-123-4567\n",
    "* 기능1 : 연락처 추가\n",
    "* 기능2 : 연락처 전체 보기\n",
    "* 기능3 : 검색, 이름을 입력받아서 전화번호 조회\n",
    "* 기능4 : 수정, 이름을 입력받아서 전화번호 입력수정\n",
    "* 기능5 : 삭제, 이름 입력받아서 삭제\n",
    "* 기능6 : 프로그램 종료"
   ]
  },
  {
   "cell_type": "code",
   "execution_count": 11,
   "metadata": {},
   "outputs": [
    {
     "name": "stdin",
     "output_type": "stream",
     "text": [
      "연락처 추가 : 0번을 누르세요 전체 연락처 조회 : 1번을 누르세요 이름으로 조회: 2번을 누르세요 0\n"
     ]
    }
   ],
   "source": [
    "contact = {}\n",
    "\n",
    "func_num = input('연락처 추가 : 0번을 누르세요' \" \" '전체 연락처 조회 : 1번을 누르세요' \" \"\n",
    "                 '이름으로 조회: 2번을 누르세요')\n",
    "\n",
    "if func_num == 0:\n",
    "  \n",
    "    #func1\n",
    "    func1_name = input('이름 : ')\n",
    "    func1_number = input('전화번호 : 010 -')\n",
    "    contact[func1_name] = func1_number\n",
    "\n",
    "elif func_num == 1:\n",
    "\n",
    "    #func2\n",
    "    func2 = input('전체 연락처를 보려면 1을 입력하세요')\n",
    "    print(contact)\n",
    "    \n",
    "elif func_num == 2:\n",
    "    \n",
    "    #func3\n",
    "    func3_name = input('이름을 입력하세요 :')\n",
    "    func3 = contact.values([func3_name])\n",
    "    print(func3)\n",
    "    \n",
    "elif func_num == 3:\n",
    "    \n",
    "    #func4\n",
    "    func4_name = input('이름을 입력하세요 :')\n",
    "    func4 = contact.values([func4_name])\n",
    "    func4_num = input('수정할 번호를 입력하세요 : 010 -')\n",
    "    contact[func4_name] = func4_num\n",
    "    print(contact)\n",
    "\n",
    "elif func_num == 4:\n",
    "    \n",
    "    #func5\n",
    "    func5_name = input('삭제할 번호의 이름을 입력하세요 :')\n",
    "    func5 = contact.values([func5_name])\n",
    "    contact.pop(func5_name)\n",
    "    print(contact)\n",
    "\n"
   ]
  },
  {
   "cell_type": "code",
   "execution_count": 13,
   "metadata": {},
   "outputs": [
    {
     "name": "stdout",
     "output_type": "stream",
     "text": [
      "\n",
      "기능을 선택하세요:\n",
      "기능1: 연락처 추가\n",
      "기능2: 연락처 전체 보기\n",
      "기능3: 검색\n",
      "기능4: 수정\n",
      "기능5: 삭제\n",
      "기능6: 프로그램 종료\n"
     ]
    },
    {
     "name": "stdin",
     "output_type": "stream",
     "text": [
      "기능 번호를 입력하세요:  2\n"
     ]
    },
    {
     "name": "stdout",
     "output_type": "stream",
     "text": [
      "전체 연락처:\n",
      "{}\n",
      "\n",
      "기능을 선택하세요:\n",
      "기능1: 연락처 추가\n",
      "기능2: 연락처 전체 보기\n",
      "기능3: 검색\n",
      "기능4: 수정\n",
      "기능5: 삭제\n",
      "기능6: 프로그램 종료\n"
     ]
    },
    {
     "name": "stdin",
     "output_type": "stream",
     "text": [
      "기능 번호를 입력하세요:  1\n",
      "이름:  aasdf\n",
      "전화번호: 010- 132234155\n"
     ]
    },
    {
     "name": "stdout",
     "output_type": "stream",
     "text": [
      "연락처가 추가되었습니다.\n",
      "\n",
      "기능을 선택하세요:\n",
      "기능1: 연락처 추가\n",
      "기능2: 연락처 전체 보기\n",
      "기능3: 검색\n",
      "기능4: 수정\n",
      "기능5: 삭제\n",
      "기능6: 프로그램 종료\n"
     ]
    },
    {
     "name": "stdin",
     "output_type": "stream",
     "text": [
      "기능 번호를 입력하세요:  2\n"
     ]
    },
    {
     "name": "stdout",
     "output_type": "stream",
     "text": [
      "전체 연락처:\n",
      "{'aasdf': '010-132234155'}\n",
      "\n",
      "기능을 선택하세요:\n",
      "기능1: 연락처 추가\n",
      "기능2: 연락처 전체 보기\n",
      "기능3: 검색\n",
      "기능4: 수정\n",
      "기능5: 삭제\n",
      "기능6: 프로그램 종료\n"
     ]
    },
    {
     "name": "stdin",
     "output_type": "stream",
     "text": [
      "기능 번호를 입력하세요:  1\n",
      "이름:  12312421\n",
      "전화번호: 010- 45234523664326\n"
     ]
    },
    {
     "name": "stdout",
     "output_type": "stream",
     "text": [
      "연락처가 추가되었습니다.\n",
      "\n",
      "기능을 선택하세요:\n",
      "기능1: 연락처 추가\n",
      "기능2: 연락처 전체 보기\n",
      "기능3: 검색\n",
      "기능4: 수정\n",
      "기능5: 삭제\n",
      "기능6: 프로그램 종료\n"
     ]
    },
    {
     "name": "stdin",
     "output_type": "stream",
     "text": [
      "기능 번호를 입력하세요:  2\n"
     ]
    },
    {
     "name": "stdout",
     "output_type": "stream",
     "text": [
      "전체 연락처:\n",
      "{'aasdf': '010-132234155', '12312421': '010-45234523664326'}\n",
      "\n",
      "기능을 선택하세요:\n",
      "기능1: 연락처 추가\n",
      "기능2: 연락처 전체 보기\n",
      "기능3: 검색\n",
      "기능4: 수정\n",
      "기능5: 삭제\n",
      "기능6: 프로그램 종료\n"
     ]
    },
    {
     "name": "stdin",
     "output_type": "stream",
     "text": [
      "기능 번호를 입력하세요:  6\n"
     ]
    },
    {
     "name": "stdout",
     "output_type": "stream",
     "text": [
      "프로그램을 종료합니다.\n"
     ]
    }
   ],
   "source": [
    "contact = {}\n",
    "\n",
    "while True:\n",
    "    print(\"\\n기능을 선택하세요:\")\n",
    "    print(\"기능1: 연락처 추가\")\n",
    "    print(\"기능2: 연락처 전체 보기\")\n",
    "    print(\"기능3: 검색\")\n",
    "    print(\"기능4: 수정\")\n",
    "    print(\"기능5: 삭제\")\n",
    "    print(\"기능6: 프로그램 종료\")\n",
    "\n",
    "    func_num = int(input(\"기능 번호를 입력하세요: \"))\n",
    "\n",
    "    if func_num == 1:\n",
    "        # 기능1: 연락처 추가\n",
    "        func1_name = input('이름: ')\n",
    "        func1_number = input('전화번호: 010-')\n",
    "        contact[func1_name] = '010-' + func1_number\n",
    "        print(\"연락처가 추가되었습니다.\")\n",
    "\n",
    "    elif func_num == 2:\n",
    "        # 기능2: 연락처 전체 보기\n",
    "        print(\"전체 연락처:\")\n",
    "        # print(contact)\n",
    "        for name, number in contact.items():\n",
    "            print(f\"{name}: {number}\")\n",
    "\n",
    "    elif func_num == 3:\n",
    "        # 기능3: 검색\n",
    "        func3_name = input('이름을 입력하세요: ')\n",
    "        if func3_name in contact:\n",
    "            print(f\"{func3_name}의 전화번호: {contact[func3_name]}\")\n",
    "        else:\n",
    "            print(\"해당하는 이름의 연락처가 없습니다.\")\n",
    "\n",
    "    elif func_num == 4:\n",
    "        # 기능4: 수정\n",
    "        func4_name = input('이름을 입력하세요: ')\n",
    "        if func4_name in contact:\n",
    "            func4_number = input('수정할 전화번호: 010-')\n",
    "            contact[func4_name] = '010-' + func4_number\n",
    "            print(\"연락처가 수정되었습니다.\")\n",
    "        else:\n",
    "            print(\"해당하는 이름의 연락처가 없습니다.\")\n",
    "\n",
    "    elif func_num == 5:\n",
    "        # 기능5: 삭제\n",
    "        func5_name = input('삭제할 이름을 입력하세요: ')\n",
    "        if func5_name in contact:\n",
    "            contact.pop(func5_name)\n",
    "            print(\"연락처가 삭제되었습니다.\")\n",
    "        else:\n",
    "            print(\"해당하는 이름의 연락처가 없습니다.\")\n",
    "\n",
    "    elif func_num == 6:\n",
    "        # 기능6: 프로그램 종료\n",
    "        print(\"프로그램을 종료합니다.\")\n",
    "        break\n",
    "\n",
    "    else:\n",
    "        print(\"올바른 기능 번호를 입력하세요.\")\n"
   ]
  },
  {
   "cell_type": "code",
   "execution_count": null,
   "metadata": {},
   "outputs": [],
   "source": []
  }
 ],
 "metadata": {
  "kernelspec": {
   "display_name": "Python 3 (ipykernel)",
   "language": "python",
   "name": "python3"
  },
  "language_info": {
   "codemirror_mode": {
    "name": "ipython",
    "version": 3
   },
   "file_extension": ".py",
   "mimetype": "text/x-python",
   "name": "python",
   "nbconvert_exporter": "python",
   "pygments_lexer": "ipython3",
   "version": "3.10.9"
  },
  "toc": {
   "base_numbering": 1,
   "nav_menu": {},
   "number_sections": true,
   "sideBar": true,
   "skip_h1_title": false,
   "title_cell": "Table of Contents",
   "title_sidebar": "Contents",
   "toc_cell": false,
   "toc_position": {},
   "toc_section_display": true,
   "toc_window_display": false
  },
  "varInspector": {
   "cols": {
    "lenName": 16,
    "lenType": 16,
    "lenVar": 40
   },
   "kernels_config": {
    "python": {
     "delete_cmd_postfix": "",
     "delete_cmd_prefix": "del ",
     "library": "var_list.py",
     "varRefreshCmd": "print(var_dic_list())"
    },
    "r": {
     "delete_cmd_postfix": ") ",
     "delete_cmd_prefix": "rm(",
     "library": "var_list.r",
     "varRefreshCmd": "cat(var_dic_list()) "
    }
   },
   "types_to_exclude": [
    "module",
    "function",
    "builtin_function_or_method",
    "instance",
    "_Feature"
   ],
   "window_display": false
  }
 },
 "nbformat": 4,
 "nbformat_minor": 4
}
