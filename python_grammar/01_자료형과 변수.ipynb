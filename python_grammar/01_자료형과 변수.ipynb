{
 "cells": [
  {
   "cell_type": "markdown",
   "id": "87c1ac98-caf3-4ca1-8411-651742944787",
   "metadata": {
    "tags": []
   },
   "source": [
    "# 숫자형"
   ]
  },
  {
   "cell_type": "code",
   "execution_count": 8,
   "id": "abcb02ee-ac5b-4d67-b630-c626b7a93795",
   "metadata": {},
   "outputs": [
    {
     "data": {
      "text/plain": [
       "0"
      ]
     },
     "execution_count": 8,
     "metadata": {},
     "output_type": "execute_result"
    }
   ],
   "source": [
    "a = 123\n",
    "a = -178\n",
    "a = 0\n",
    "a"
   ]
  },
  {
   "cell_type": "code",
   "execution_count": 7,
   "id": "9099f67b-f417-4a5d-bee8-4bddfbfd8336",
   "metadata": {},
   "outputs": [
    {
     "data": {
      "text/plain": [
       "-3.45"
      ]
     },
     "execution_count": 7,
     "metadata": {},
     "output_type": "execute_result"
    }
   ],
   "source": [
    "a = 1.2\n",
    "a = -3.45\n",
    "a"
   ]
  },
  {
   "cell_type": "code",
   "execution_count": 9,
   "id": "492f535a-df74-4116-8047-1c813ee9e841",
   "metadata": {},
   "outputs": [
    {
     "data": {
      "text/plain": [
       "42400000000.0"
      ]
     },
     "execution_count": 9,
     "metadata": {},
     "output_type": "execute_result"
    }
   ],
   "source": [
    "a = 4.24E10\n",
    "# a = 4.24e-10\n",
    "a"
   ]
  },
  {
   "cell_type": "code",
   "execution_count": 4,
   "id": "10bda63c-cfc4-4fc2-9388-b0dff7532c6f",
   "metadata": {},
   "outputs": [
    {
     "name": "stdout",
     "output_type": "stream",
     "text": [
      "127\n"
     ]
    }
   ],
   "source": [
    "a = 0o177\n",
    "print(a)"
   ]
  },
  {
   "cell_type": "code",
   "execution_count": 5,
   "id": "7462dbcf-3aac-45fa-95f9-b1a5bbfcae84",
   "metadata": {},
   "outputs": [
    {
     "name": "stdout",
     "output_type": "stream",
     "text": [
      "2748\n"
     ]
    }
   ],
   "source": [
    "a = 0x8ff\n",
    "b = 0xABC\n",
    "print(b)\n",
    "\n",
    "#프린트는 내장함수 그냥 변수 -> IDE의 편의 기능"
   ]
  },
  {
   "cell_type": "markdown",
   "id": "edd9ad7f-179b-4ee9-99c6-3b08738b7e6c",
   "metadata": {},
   "source": [
    "# 사칙연산"
   ]
  },
  {
   "cell_type": "code",
   "execution_count": 12,
   "id": "dd4c4ace-9117-4b92-9513-94714afcad41",
   "metadata": {},
   "outputs": [
    {
     "name": "stdout",
     "output_type": "stream",
     "text": [
      "7  -1  12  0.75\n"
     ]
    }
   ],
   "source": [
    "a = 3\n",
    "b = 4\n",
    "print(a + b,\"\" ,a - b, \"\",a * b, \"\",a/b)"
   ]
  },
  {
   "cell_type": "markdown",
   "id": "5852d3ac-c96a-4640-b542-bea755978b49",
   "metadata": {},
   "source": [
    "# 제곱 연산"
   ]
  },
  {
   "cell_type": "code",
   "execution_count": 13,
   "id": "7a8c5040-9ae2-42f8-9658-c53a9789cdf6",
   "metadata": {},
   "outputs": [
    {
     "data": {
      "text/plain": [
       "81"
      ]
     },
     "execution_count": 13,
     "metadata": {},
     "output_type": "execute_result"
    }
   ],
   "source": [
    "a = 3\n",
    "b = 4\n",
    "a**b"
   ]
  },
  {
   "cell_type": "markdown",
   "id": "78727a8e-8865-47f8-b261-e96754f815dc",
   "metadata": {},
   "source": [
    "# 나눗셈 나머지 연산"
   ]
  },
  {
   "cell_type": "code",
   "execution_count": 16,
   "id": "a4ed99a1-4866-47a7-87bb-a3a5a1069a1e",
   "metadata": {},
   "outputs": [
    {
     "data": {
      "text/plain": [
       "1"
      ]
     },
     "execution_count": 16,
     "metadata": {},
     "output_type": "execute_result"
    }
   ],
   "source": [
    "7 % 3"
   ]
  },
  {
   "cell_type": "code",
   "execution_count": 17,
   "id": "ed9e9159-b179-4fec-b099-c5cbf2dfc4fe",
   "metadata": {},
   "outputs": [
    {
     "data": {
      "text/plain": [
       "3"
      ]
     },
     "execution_count": 17,
     "metadata": {},
     "output_type": "execute_result"
    }
   ],
   "source": [
    "3 % 7"
   ]
  },
  {
   "cell_type": "markdown",
   "id": "bfa7c069-eb0d-4033-be24-1763b0aa3ee1",
   "metadata": {},
   "source": [
    "# 나눗셈 몫 연산"
   ]
  },
  {
   "cell_type": "code",
   "execution_count": 18,
   "id": "0d7d1e72-db7b-4edb-bd3d-2d3f1fc8a3fd",
   "metadata": {},
   "outputs": [
    {
     "data": {
      "text/plain": [
       "1.75"
      ]
     },
     "execution_count": 18,
     "metadata": {},
     "output_type": "execute_result"
    }
   ],
   "source": [
    "7 / 4"
   ]
  },
  {
   "cell_type": "code",
   "execution_count": 19,
   "id": "55eb8f65-b582-4cab-9182-da227195bb71",
   "metadata": {},
   "outputs": [
    {
     "data": {
      "text/plain": [
       "1"
      ]
     },
     "execution_count": 19,
     "metadata": {},
     "output_type": "execute_result"
    }
   ],
   "source": [
    "7 // 4 #몫만 return"
   ]
  },
  {
   "cell_type": "markdown",
   "id": "f40b6265-e1ec-4578-bd21-a8e700aed162",
   "metadata": {},
   "source": [
    "# 문자열 자료형"
   ]
  },
  {
   "cell_type": "code",
   "execution_count": 20,
   "id": "30ffc6d0-d135-4223-87dc-08a79e7dd831",
   "metadata": {},
   "outputs": [
    {
     "data": {
      "text/plain": [
       "'Hello world'"
      ]
     },
     "execution_count": 20,
     "metadata": {},
     "output_type": "execute_result"
    }
   ],
   "source": [
    "\"Hello world\""
   ]
  },
  {
   "cell_type": "code",
   "execution_count": 21,
   "id": "5974a2dc-1f76-4c0b-9009-a150f79d1fdf",
   "metadata": {},
   "outputs": [
    {
     "data": {
      "text/plain": [
       "'Python is fun'"
      ]
     },
     "execution_count": 21,
     "metadata": {},
     "output_type": "execute_result"
    }
   ],
   "source": [
    "'Python is fun'"
   ]
  },
  {
   "cell_type": "code",
   "execution_count": 22,
   "id": "8f0ba507-fbc2-4922-8e73-2800b79ca749",
   "metadata": {},
   "outputs": [
    {
     "data": {
      "text/plain": [
       "'Hello world'"
      ]
     },
     "execution_count": 22,
     "metadata": {},
     "output_type": "execute_result"
    }
   ],
   "source": [
    "\"\"\"Hello world\"\"\""
   ]
  },
  {
   "cell_type": "code",
   "execution_count": 23,
   "id": "ae9dad33-ce47-4f3c-8a14-8910d9e79044",
   "metadata": {},
   "outputs": [
    {
     "data": {
      "text/plain": [
       "'Hello world'"
      ]
     },
     "execution_count": 23,
     "metadata": {},
     "output_type": "execute_result"
    }
   ],
   "source": [
    "'''Hello world'''"
   ]
  },
  {
   "cell_type": "markdown",
   "id": "b993769d-8b77-42aa-ad2a-186d12c0b1c6",
   "metadata": {},
   "source": [
    "# 문자열 안에 작은따옴표나 큰 따옴표를 포함시키고 싶을 때"
   ]
  },
  {
   "cell_type": "code",
   "execution_count": 28,
   "id": "1e53d74b-cc1e-4c44-a2a9-b71bc3fe3807",
   "metadata": {},
   "outputs": [],
   "source": [
    "food = \"Python's favorite food is perl\" \n",
    "# 따옴표의 종류가 많은 이유 문자열 중간에 ' 를 구분"
   ]
  },
  {
   "cell_type": "code",
   "execution_count": 25,
   "id": "a6eeb88e-92e0-4c2c-b820-fcd9c2c8b284",
   "metadata": {},
   "outputs": [
    {
     "data": {
      "text/plain": [
       "\"Python's favorite food is perl\""
      ]
     },
     "execution_count": 25,
     "metadata": {},
     "output_type": "execute_result"
    }
   ],
   "source": [
    "food"
   ]
  },
  {
   "cell_type": "code",
   "execution_count": 29,
   "id": "99e88e03-1b15-4f0b-a476-2f7ee3e625dd",
   "metadata": {},
   "outputs": [
    {
     "ename": "SyntaxError",
     "evalue": "invalid syntax (2498016959.py, line 1)",
     "output_type": "error",
     "traceback": [
      "\u001b[1;36m  Cell \u001b[1;32mIn[29], line 1\u001b[1;36m\u001b[0m\n\u001b[1;33m    \"Python is very easy.\" he says.\u001b[0m\n\u001b[1;37m                           ^\u001b[0m\n\u001b[1;31mSyntaxError\u001b[0m\u001b[1;31m:\u001b[0m invalid syntax\n"
     ]
    }
   ],
   "source": [
    "\"Python is very easy.\" he says."
   ]
  },
  {
   "cell_type": "code",
   "execution_count": 31,
   "id": "21785457-e468-4c1f-9d7a-97858890315d",
   "metadata": {},
   "outputs": [
    {
     "data": {
      "text/plain": [
       "'\"Python is very easy.\" he says.'"
      ]
     },
     "execution_count": 31,
     "metadata": {},
     "output_type": "execute_result"
    }
   ],
   "source": [
    "say = '\"Python is very easy.\" he says.'\n",
    "say"
   ]
  },
  {
   "cell_type": "markdown",
   "id": "a60ec1ca-32a1-4d99-a63d-2f9aea614538",
   "metadata": {},
   "source": [
    "# 역슬래시를 사용해서 작은따옴표와 큰따옴표를 문자열에 포함하기 -> Escape 코드"
   ]
  },
  {
   "cell_type": "code",
   "execution_count": 32,
   "id": "9372a6d7-64a7-4945-8bce-5dc12fc49d8b",
   "metadata": {},
   "outputs": [],
   "source": [
    "food = 'Python\\'s favorite food is perl'\n",
    "# 이것은 코드가 아니다 -> 앞에다가 /\n",
    "say = \"\\\"Python is very easy.\\\" he says.\""
   ]
  },
  {
   "cell_type": "code",
   "execution_count": 34,
   "id": "5d2b304a-f803-4e98-9af3-f226b5374ade",
   "metadata": {},
   "outputs": [
    {
     "name": "stdout",
     "output_type": "stream",
     "text": [
      "Python's favorite food is perl\n",
      "\"Python is very easy.\" he says.\n"
     ]
    }
   ],
   "source": [
    "print(food)\n",
    "print(say)"
   ]
  },
  {
   "cell_type": "markdown",
   "id": "4df291b3-f97f-41a1-b189-d3a6069efc46",
   "metadata": {},
   "source": [
    "# 여러 줄인 문자열을 변수에 대입하고 싶을 때\n"
   ]
  },
  {
   "cell_type": "code",
   "execution_count": 35,
   "id": "63cb65a8-35cf-448a-8706-f7449fa67a8d",
   "metadata": {},
   "outputs": [
    {
     "name": "stdout",
     "output_type": "stream",
     "text": [
      "Life is too short\n",
      "You need python\n"
     ]
    }
   ],
   "source": [
    "multiline = \"Life is too short\\nYou need python\"\n",
    "print(multiline)"
   ]
  },
  {
   "cell_type": "code",
   "execution_count": 1,
   "id": "73a7c54f-2794-46a2-988c-f990bb36caa2",
   "metadata": {},
   "outputs": [
    {
     "data": {
      "text/plain": [
       "'Life is too short\\nYou need python'"
      ]
     },
     "execution_count": 1,
     "metadata": {},
     "output_type": "execute_result"
    }
   ],
   "source": [
    "multiline = \"Life is too short\\nYou need python\"\n",
    "multiline # 내장 함수를 써야 Escape code를 인식한다"
   ]
  },
  {
   "cell_type": "code",
   "execution_count": 37,
   "id": "4bf0e1b0-c08e-4d86-98ca-ed5965a92712",
   "metadata": {},
   "outputs": [
    {
     "name": "stdout",
     "output_type": "stream",
     "text": [
      " Life is too short\n",
      "You need python \n"
     ]
    }
   ],
   "source": [
    "multiline = \"\"\" Life is too short\n",
    "You need python \"\"\"\n",
    "print(multiline)"
   ]
  },
  {
   "cell_type": "code",
   "execution_count": 3,
   "id": "a0bab067-ea96-44dc-9f26-eb51192386b7",
   "metadata": {},
   "outputs": [
    {
     "data": {
      "text/plain": [
       "'\\nLife is too short\\nYou need python\\n'"
      ]
     },
     "execution_count": 3,
     "metadata": {},
     "output_type": "execute_result"
    }
   ],
   "source": [
    "multiline = '''\n",
    "Life is too short\n",
    "You need python\n",
    "'''\n",
    "multiline"
   ]
  },
  {
   "cell_type": "markdown",
   "id": "5ce15325-506d-4247-89a3-969595b18431",
   "metadata": {},
   "source": [
    "# 문자열 연산하기"
   ]
  },
  {
   "cell_type": "code",
   "execution_count": 5,
   "id": "d837c8b3-0626-4949-9c73-7bb802911f27",
   "metadata": {},
   "outputs": [
    {
     "data": {
      "text/plain": [
       "'Python is fun!'"
      ]
     },
     "execution_count": 5,
     "metadata": {},
     "output_type": "execute_result"
    }
   ],
   "source": [
    "head = \"Python\"\n",
    "tail = \" is fun!\"\n",
    "head + tail"
   ]
  },
  {
   "cell_type": "code",
   "execution_count": 6,
   "id": "22cbc193-82d1-4086-a574-5063fdb55535",
   "metadata": {},
   "outputs": [
    {
     "data": {
      "text/plain": [
       "'pythonpythonpythonpythonpython'"
      ]
     },
     "execution_count": 6,
     "metadata": {},
     "output_type": "execute_result"
    }
   ],
   "source": [
    "a = 'python'\n",
    "a*5"
   ]
  },
  {
   "cell_type": "markdown",
   "id": "9b54261d-649e-44f8-aa31-1b59a03264ce",
   "metadata": {},
   "source": [
    "# 문자열 길이 구하기"
   ]
  },
  {
   "cell_type": "code",
   "execution_count": 7,
   "id": "84b7334a-d074-4b1d-8ff1-c6fec99f7d05",
   "metadata": {},
   "outputs": [
    {
     "data": {
      "text/plain": [
       "16"
      ]
     },
     "execution_count": 7,
     "metadata": {},
     "output_type": "execute_result"
    }
   ],
   "source": [
    "a = 'Lif is too short'\n",
    "len(a)"
   ]
  },
  {
   "cell_type": "markdown",
   "id": "8e008e72-8e0b-4caf-94c2-c7c9183b7d0f",
   "metadata": {
    "tags": []
   },
   "source": [
    "# 문자열 인덱싱과 슬라이싱"
   ]
  },
  {
   "cell_type": "code",
   "execution_count": 8,
   "id": "5e93e73a-eb88-48d4-ba33-f34bef28fbd8",
   "metadata": {},
   "outputs": [],
   "source": [
    "a = \"Life is too short, You need python\""
   ]
  },
  {
   "cell_type": "code",
   "execution_count": 11,
   "id": "81fe1658-4041-4073-8c05-08429ebb119c",
   "metadata": {},
   "outputs": [
    {
     "data": {
      "text/plain": [
       "'e'"
      ]
     },
     "execution_count": 11,
     "metadata": {},
     "output_type": "execute_result"
    }
   ],
   "source": [
    "a[3]"
   ]
  },
  {
   "cell_type": "code",
   "execution_count": 13,
   "id": "e818334c-87a0-434d-bfa2-8fbbb1aa3752",
   "metadata": {},
   "outputs": [
    {
     "data": {
      "text/plain": [
       "'s'"
      ]
     },
     "execution_count": 13,
     "metadata": {},
     "output_type": "execute_result"
    }
   ],
   "source": [
    "a[12]"
   ]
  },
  {
   "cell_type": "code",
   "execution_count": 14,
   "id": "a77861a4-3f8e-454a-949d-8125d6e2e830",
   "metadata": {},
   "outputs": [
    {
     "data": {
      "text/plain": [
       "'n'"
      ]
     },
     "execution_count": 14,
     "metadata": {},
     "output_type": "execute_result"
    }
   ],
   "source": [
    "a[-1]"
   ]
  },
  {
   "cell_type": "code",
   "execution_count": 16,
   "id": "e40be9e4-9a4c-47cf-a03b-8a4517b44bdd",
   "metadata": {},
   "outputs": [
    {
     "data": {
      "text/plain": [
       "' '"
      ]
     },
     "execution_count": 16,
     "metadata": {},
     "output_type": "execute_result"
    }
   ],
   "source": [
    "a[-7]"
   ]
  },
  {
   "cell_type": "code",
   "execution_count": 17,
   "id": "6747b472-0e28-4f2a-a44c-b88b394fca82",
   "metadata": {},
   "outputs": [
    {
     "data": {
      "text/plain": [
       "'n'"
      ]
     },
     "execution_count": 17,
     "metadata": {},
     "output_type": "execute_result"
    }
   ],
   "source": [
    "a[-1]"
   ]
  },
  {
   "cell_type": "markdown",
   "id": "130cca7b-3169-4780-b003-8cee517492a7",
   "metadata": {},
   "source": [
    "## 문자열 슬라이싱"
   ]
  },
  {
   "cell_type": "code",
   "execution_count": 18,
   "id": "52969bcf-56ba-4c33-9f22-c7bd729a91a6",
   "metadata": {},
   "outputs": [
    {
     "data": {
      "text/plain": [
       "'Life'"
      ]
     },
     "execution_count": 18,
     "metadata": {},
     "output_type": "execute_result"
    }
   ],
   "source": [
    "a[0] + a[1] + a[2] + a[3]"
   ]
  },
  {
   "cell_type": "code",
   "execution_count": 21,
   "id": "6e36e2ce-5fe5-4d43-b854-7dfff3f42abf",
   "metadata": {},
   "outputs": [
    {
     "data": {
      "text/plain": [
       "'Life'"
      ]
     },
     "execution_count": 21,
     "metadata": {},
     "output_type": "execute_result"
    }
   ],
   "source": [
    "a[0:4] # end 인덱스는 +1 해주기"
   ]
  },
  {
   "cell_type": "code",
   "execution_count": 24,
   "id": "ae9968d4-0d0a-4219-964f-10f4271815f3",
   "metadata": {},
   "outputs": [
    {
     "data": {
      "text/plain": [
       "'too short'"
      ]
     },
     "execution_count": 24,
     "metadata": {},
     "output_type": "execute_result"
    }
   ],
   "source": [
    "a[8:17]"
   ]
  },
  {
   "cell_type": "code",
   "execution_count": 25,
   "id": "71a12423-6bc1-4bd9-86bf-b7c11b814df6",
   "metadata": {},
   "outputs": [
    {
     "data": {
      "text/plain": [
       "False"
      ]
     },
     "execution_count": 25,
     "metadata": {},
     "output_type": "execute_result"
    }
   ],
   "source": [
    "a[0:4] == a[0:5]"
   ]
  },
  {
   "cell_type": "code",
   "execution_count": 27,
   "id": "2536efd1-efbf-4491-8f09-c84aee40966d",
   "metadata": {},
   "outputs": [
    {
     "data": {
      "text/plain": [
       "'You need python'"
      ]
     },
     "execution_count": 27,
     "metadata": {},
     "output_type": "execute_result"
    }
   ],
   "source": [
    "a[19:]"
   ]
  },
  {
   "cell_type": "code",
   "execution_count": 26,
   "id": "6a336ac3-d503-4184-b43d-ec3749b48cdd",
   "metadata": {},
   "outputs": [
    {
     "data": {
      "text/plain": [
       "'Life is too short'"
      ]
     },
     "execution_count": 26,
     "metadata": {},
     "output_type": "execute_result"
    }
   ],
   "source": [
    "a[:17]"
   ]
  },
  {
   "cell_type": "code",
   "execution_count": 31,
   "id": "26845ea9-72e6-4857-8a4e-46c29514733d",
   "metadata": {},
   "outputs": [
    {
     "data": {
      "text/plain": [
       "'You need'"
      ]
     },
     "execution_count": 31,
     "metadata": {},
     "output_type": "execute_result"
    }
   ],
   "source": [
    "a[19:-7]"
   ]
  },
  {
   "cell_type": "markdown",
   "id": "9292a84d-c607-4978-82af-9c6763bc6d83",
   "metadata": {},
   "source": [
    "## 슬라이싱으로 문자열 나누기"
   ]
  },
  {
   "cell_type": "code",
   "execution_count": 34,
   "id": "d6bb1c58-06d4-4cc4-8fdc-0f2cde181d48",
   "metadata": {},
   "outputs": [
    {
     "data": {
      "text/plain": [
       "('20230331', 'Rainy')"
      ]
     },
     "execution_count": 34,
     "metadata": {},
     "output_type": "execute_result"
    }
   ],
   "source": [
    "a = \"20230331Rainy\"\n",
    "date = a[:8]\n",
    "weather = a[8:]\n",
    "date, weather"
   ]
  },
  {
   "cell_type": "code",
   "execution_count": 36,
   "id": "e1567ac7-19b7-4e4d-b8a8-cdbdd9a02e8b",
   "metadata": {},
   "outputs": [
    {
     "data": {
      "text/plain": [
       "('2023', '20230331', '0331')"
      ]
     },
     "execution_count": 36,
     "metadata": {},
     "output_type": "execute_result"
    }
   ],
   "source": [
    "a = \"20230331Rainy\"\n",
    "year = a[:4]\n",
    "day = a[4:8]\n",
    "weather = a[4:8]\n",
    "year ,date, weather"
   ]
  },
  {
   "cell_type": "markdown",
   "id": "1d000d55-e75e-49c7-812a-ccfed4478558",
   "metadata": {},
   "source": [
    "# 문자열 수정하기"
   ]
  },
  {
   "cell_type": "code",
   "execution_count": 39,
   "id": "be93b053-8447-486a-969e-9dce1050e7bf",
   "metadata": {},
   "outputs": [
    {
     "ename": "TypeError",
     "evalue": "'str' object does not support item assignment",
     "output_type": "error",
     "traceback": [
      "\u001b[1;31m---------------------------------------------------------------------------\u001b[0m",
      "\u001b[1;31mTypeError\u001b[0m                                 Traceback (most recent call last)",
      "Cell \u001b[1;32mIn[39], line 2\u001b[0m\n\u001b[0;32m      1\u001b[0m a \u001b[38;5;241m=\u001b[39m \u001b[38;5;124m'\u001b[39m\u001b[38;5;124mPithon\u001b[39m\u001b[38;5;124m'\u001b[39m\n\u001b[1;32m----> 2\u001b[0m a[\u001b[38;5;241m1\u001b[39m] \u001b[38;5;241m=\u001b[39m \u001b[38;5;124m'\u001b[39m\u001b[38;5;124my\u001b[39m\u001b[38;5;124m'\u001b[39m\n\u001b[0;32m      3\u001b[0m a\n",
      "\u001b[1;31mTypeError\u001b[0m: 'str' object does not support item assignment"
     ]
    }
   ],
   "source": [
    "a = 'Pithon'\n",
    "a[1] = 'y'\n",
    "a\n",
    "# a -> 수정이 안됨, 변경 불가능한 자료형"
   ]
  },
  {
   "cell_type": "code",
   "execution_count": 40,
   "id": "b136a9cf-ba3b-46e5-bee8-0260ddeb5e6c",
   "metadata": {},
   "outputs": [
    {
     "data": {
      "text/plain": [
       "('P', 'P')"
      ]
     },
     "execution_count": 40,
     "metadata": {},
     "output_type": "execute_result"
    }
   ],
   "source": [
    "a[0], a[:1]"
   ]
  },
  {
   "cell_type": "code",
   "execution_count": 41,
   "id": "bc75bde2-94b5-4809-b1bd-bda98411afb1",
   "metadata": {},
   "outputs": [
    {
     "data": {
      "text/plain": [
       "'thon'"
      ]
     },
     "execution_count": 41,
     "metadata": {},
     "output_type": "execute_result"
    }
   ],
   "source": [
    "a[2:]"
   ]
  },
  {
   "cell_type": "code",
   "execution_count": 42,
   "id": "051ce2d4-5a82-401b-81c7-89e2ad18c217",
   "metadata": {},
   "outputs": [
    {
     "data": {
      "text/plain": [
       "'Python'"
      ]
     },
     "execution_count": 42,
     "metadata": {},
     "output_type": "execute_result"
    }
   ],
   "source": [
    "b = a[:1] + 'y' + a[2:]\n",
    "b"
   ]
  },
  {
   "cell_type": "markdown",
   "id": "87d3b163-a0f6-4be9-9727-3b3bdf0cbfdb",
   "metadata": {},
   "source": [
    "# 문자열 포매팅"
   ]
  },
  {
   "cell_type": "code",
   "execution_count": 43,
   "id": "ee3e8d5a-7ad9-4ca3-b3e0-63bd02349c5d",
   "metadata": {},
   "outputs": [
    {
     "data": {
      "text/plain": [
       "' I eat 3 apples.'"
      ]
     },
     "execution_count": 43,
     "metadata": {},
     "output_type": "execute_result"
    }
   ],
   "source": [
    "# 숫자 바로 대입\n",
    "# 정수가 들어올 자리, 치환 값이 들어옴\n",
    "\" I eat %d apples.\"%3"
   ]
  },
  {
   "cell_type": "code",
   "execution_count": 45,
   "id": "5440160f-fcb0-4090-8c24-36004acf95ed",
   "metadata": {},
   "outputs": [
    {
     "data": {
      "text/plain": [
       "' I eat five apples.'"
      ]
     },
     "execution_count": 45,
     "metadata": {},
     "output_type": "execute_result"
    }
   ],
   "source": [
    "# 문자열 비로 대입\n",
    "\" I eat %s apples.\"%\"five\""
   ]
  },
  {
   "cell_type": "code",
   "execution_count": 46,
   "id": "0f39237c-8d52-4692-9d2f-1379793e49c1",
   "metadata": {},
   "outputs": [
    {
     "data": {
      "text/plain": [
       "' I eat 3 apples.'"
      ]
     },
     "execution_count": 46,
     "metadata": {},
     "output_type": "execute_result"
    }
   ],
   "source": [
    "# 숫자 값을 나타태는 변수로 대입\n",
    "number = 3\n",
    "\" I eat %d apples.\"%number"
   ]
  },
  {
   "cell_type": "code",
   "execution_count": 47,
   "id": "7a1fef64-e2bd-48fd-aaa6-da58ef7ce3be",
   "metadata": {},
   "outputs": [
    {
     "data": {
      "text/plain": [
       "'I ate 10 apples. so I was sick for three daty.'"
      ]
     },
     "execution_count": 47,
     "metadata": {},
     "output_type": "execute_result"
    }
   ],
   "source": [
    "# 2개 이상의 값 넣기\n",
    "number = 10\n",
    "day = 'three'\n",
    "'I ate %d apples. so I was sick for %s daty.' %(number, day)"
   ]
  },
  {
   "cell_type": "code",
   "execution_count": 48,
   "id": "a2773312-a45f-4d0d-a438-a16583574d43",
   "metadata": {},
   "outputs": [
    {
     "ename": "TypeError",
     "evalue": "%d format: a real number is required, not str",
     "output_type": "error",
     "traceback": [
      "\u001b[1;31m---------------------------------------------------------------------------\u001b[0m",
      "\u001b[1;31mTypeError\u001b[0m                                 Traceback (most recent call last)",
      "Cell \u001b[1;32mIn[48], line 4\u001b[0m\n\u001b[0;32m      2\u001b[0m number \u001b[38;5;241m=\u001b[39m \u001b[38;5;241m10\u001b[39m\n\u001b[0;32m      3\u001b[0m day \u001b[38;5;241m=\u001b[39m \u001b[38;5;124m'\u001b[39m\u001b[38;5;124mthree\u001b[39m\u001b[38;5;124m'\u001b[39m\n\u001b[1;32m----> 4\u001b[0m \u001b[38;5;124;43m'\u001b[39;49m\u001b[38;5;124;43mI ate \u001b[39;49m\u001b[38;5;132;43;01m%d\u001b[39;49;00m\u001b[38;5;124;43m apples. so I was sick for \u001b[39;49m\u001b[38;5;132;43;01m%s\u001b[39;49;00m\u001b[38;5;124;43m daty.\u001b[39;49m\u001b[38;5;124;43m'\u001b[39;49m\u001b[43m \u001b[49m\u001b[38;5;241;43m%\u001b[39;49m\u001b[43m(\u001b[49m\u001b[43mday\u001b[49m\u001b[43m,\u001b[49m\u001b[43m \u001b[49m\u001b[43mnumber\u001b[49m\u001b[43m)\u001b[49m\n",
      "\u001b[1;31mTypeError\u001b[0m: %d format: a real number is required, not str"
     ]
    }
   ],
   "source": [
    "# 2개 이상의 값 넣기\n",
    "number = 10\n",
    "day = 'three'\n",
    "'I ate %d apples. so I was sick for %s daty.' %(day, number)"
   ]
  },
  {
   "cell_type": "code",
   "execution_count": 49,
   "id": "5810cc80-71b9-44eb-9aaa-80279e958194",
   "metadata": {},
   "outputs": [
    {
     "data": {
      "text/plain": [
       "'I have 3 apples'"
      ]
     },
     "execution_count": 49,
     "metadata": {},
     "output_type": "execute_result"
    }
   ],
   "source": [
    "'I have %s apples' %3"
   ]
  },
  {
   "cell_type": "code",
   "execution_count": 51,
   "id": "256edfeb-50a5-428a-b7c8-a77165cc611b",
   "metadata": {},
   "outputs": [
    {
     "data": {
      "text/plain": [
       "'Error is 98%.'"
      ]
     },
     "execution_count": 51,
     "metadata": {},
     "output_type": "execute_result"
    }
   ],
   "source": [
    "\"Error is %d%%.\" % 98\n",
    "# 단위 %를 쓸 때는 두번 써준다 "
   ]
  },
  {
   "cell_type": "markdown",
   "id": "66ed0b29-bf02-45c9-b9c8-fbd857521bbb",
   "metadata": {},
   "source": [
    "# 포맷 코드와 숫자 함계 사용하기"
   ]
  },
  {
   "cell_type": "code",
   "execution_count": 52,
   "id": "160a1cf7-a753-4011-8285-74305d45504c",
   "metadata": {},
   "outputs": [
    {
     "data": {
      "text/plain": [
       "'        hi'"
      ]
     },
     "execution_count": 52,
     "metadata": {},
     "output_type": "execute_result"
    }
   ],
   "source": [
    "# 정렬과 공백\n",
    "\"%10s\" % \"hi\""
   ]
  },
  {
   "cell_type": "markdown",
   "id": "08b5b0ec-ad52-47d2-809f-083f75fb7e67",
   "metadata": {},
   "source": [
    "# format 함수를 사용한 포매팅"
   ]
  },
  {
   "cell_type": "code",
   "execution_count": 53,
   "id": "8b845cd5-7601-46da-b46e-d7de09b69735",
   "metadata": {},
   "outputs": [
    {
     "data": {
      "text/plain": [
       "'I eat 3 apples'"
      ]
     },
     "execution_count": 53,
     "metadata": {},
     "output_type": "execute_result"
    }
   ],
   "source": [
    "\"I eat {0} apples\".format(3)\n",
    "# . 이후 tab을 누르면 다양한 기능을 가진 함수를 사용할 수 있다"
   ]
  },
  {
   "cell_type": "code",
   "execution_count": 57,
   "id": "5d56d969-83cb-4e2e-a92e-4771bbc52c3f",
   "metadata": {},
   "outputs": [
    {
     "data": {
      "text/plain": [
       "'                                                      I eat {0} apples                                                     '"
      ]
     },
     "execution_count": 57,
     "metadata": {},
     "output_type": "execute_result"
    }
   ],
   "source": [
    "\"I eat {0} apples\".center(123)"
   ]
  },
  {
   "cell_type": "code",
   "execution_count": 58,
   "id": "981e5ba1-3e66-43e5-bf85-223d25b16e9e",
   "metadata": {},
   "outputs": [
    {
     "data": {
      "text/plain": [
       "'I eat 10 apples'"
      ]
     },
     "execution_count": 58,
     "metadata": {},
     "output_type": "execute_result"
    }
   ],
   "source": [
    "number = 10\n",
    "\"I eat {0} apples\".format(number)"
   ]
  },
  {
   "cell_type": "code",
   "execution_count": 64,
   "id": "8b7a8435-1d75-4311-8eca-4430cb3ce9cf",
   "metadata": {},
   "outputs": [
    {
     "data": {
      "text/plain": [
       "'I ate three apples. so I was sick for 10 daty.'"
      ]
     },
     "execution_count": 64,
     "metadata": {},
     "output_type": "execute_result"
    }
   ],
   "source": [
    "'I ate {} apples. so I was sick for {} daty.' .format(day, number)\n",
    "# 자료형 지정을 안해서 day와 number의 순서를 바꿔도 오류가 x"
   ]
  },
  {
   "cell_type": "code",
   "execution_count": 63,
   "id": "f3b89fe8-1fc6-4277-90fc-3e9469853222",
   "metadata": {},
   "outputs": [
    {
     "data": {
      "text/plain": [
       "'I ate 10 apples. so I was sick for 3 daty.'"
      ]
     },
     "execution_count": 63,
     "metadata": {},
     "output_type": "execute_result"
    }
   ],
   "source": [
    "'I ate {number} apples. so I was sick for {day} daty.' .format(day = 3, number = 10)\n",
    "# 직접 지정해줄 수 있다"
   ]
  },
  {
   "cell_type": "code",
   "execution_count": 66,
   "id": "dd0516a7-dc7a-4a96-a583-c2486cb5f81c",
   "metadata": {},
   "outputs": [
    {
     "ename": "KeyError",
     "evalue": "'number'",
     "output_type": "error",
     "traceback": [
      "\u001b[1;31m---------------------------------------------------------------------------\u001b[0m",
      "\u001b[1;31mKeyError\u001b[0m                                  Traceback (most recent call last)",
      "Cell \u001b[1;32mIn[66], line 1\u001b[0m\n\u001b[1;32m----> 1\u001b[0m \u001b[38;5;124;43m'\u001b[39;49m\u001b[38;5;124;43mI ate \u001b[39;49m\u001b[38;5;132;43;01m{number}\u001b[39;49;00m\u001b[38;5;124;43m apples. so I was sick for \u001b[39;49m\u001b[38;5;132;43;01m{day}\u001b[39;49;00m\u001b[38;5;124;43m daty.\u001b[39;49m\u001b[38;5;124;43m'\u001b[39;49m\u001b[43m \u001b[49m\u001b[38;5;241;43m.\u001b[39;49m\u001b[43mformat\u001b[49m\u001b[43m(\u001b[49m\u001b[38;5;241;43m10\u001b[39;49m\u001b[43m,\u001b[49m\u001b[43m \u001b[49m\u001b[38;5;241;43m3\u001b[39;49m\u001b[43m)\u001b[49m\n",
      "\u001b[1;31mKeyError\u001b[0m: 'number'"
     ]
    }
   ],
   "source": [
    "'I ate {number} apples. so I was sick for {day} daty.' .format(10, 3)\n",
    "# 대신 지정을 했으면 뒤에도 맞춰줘야 한다."
   ]
  },
  {
   "cell_type": "markdown",
   "id": "30a155bd-075a-44de-bf5c-ebd0b54d82c5",
   "metadata": {},
   "source": [
    "# 소수점 표현하기"
   ]
  },
  {
   "cell_type": "code",
   "execution_count": 67,
   "id": "e3330c8e-5aab-4207-a435-4aa367c610d5",
   "metadata": {},
   "outputs": [
    {
     "data": {
      "text/plain": [
       "'3.4213'"
      ]
     },
     "execution_count": 67,
     "metadata": {},
     "output_type": "execute_result"
    }
   ],
   "source": [
    "y = 3.42134234\n",
    "\"{0:0.4f}\".format(y)"
   ]
  },
  {
   "cell_type": "markdown",
   "id": "71123945-f5c9-4bd9-bd06-9d131f39406a",
   "metadata": {},
   "source": [
    "# 🌟f 문자열 포매팅"
   ]
  },
  {
   "cell_type": "code",
   "execution_count": 68,
   "id": "5c27455c-4732-4eb5-aa61-8945f51e5c04",
   "metadata": {},
   "outputs": [
    {
     "data": {
      "text/plain": [
       "'나의 이름은 홍길동입니다. 나이는 30입니다.'"
      ]
     },
     "execution_count": 68,
     "metadata": {},
     "output_type": "execute_result"
    }
   ],
   "source": [
    "##가장 많이쓴다\n",
    "name = '홍길동'\n",
    "age = 30\n",
    "\n",
    "f'나의 이름은 {name}입니다. 나이는 {age}입니다.'"
   ]
  },
  {
   "cell_type": "code",
   "execution_count": 69,
   "id": "e46c5c97-91ac-4222-bda9-830337406734",
   "metadata": {},
   "outputs": [
    {
     "data": {
      "text/plain": [
       "'나는 내년이면 31살이 된다'"
      ]
     },
     "execution_count": 69,
     "metadata": {},
     "output_type": "execute_result"
    }
   ],
   "source": [
    "# 계산도 된다!\n",
    "f'나는 내년이면 {age+1}살이 된다'"
   ]
  },
  {
   "cell_type": "code",
   "execution_count": 70,
   "id": "2f4983fd-795d-4a19-9f48-1538691a5253",
   "metadata": {},
   "outputs": [
    {
     "data": {
      "text/plain": [
       "'나의 이름은 홍길동입니다. 나이는 30입니다.'"
      ]
     },
     "execution_count": 70,
     "metadata": {},
     "output_type": "execute_result"
    }
   ],
   "source": [
    "# 딕셔너리는 Key와 Value라는 것을 한 쌍으로 가지는 자료형\n",
    "d = {'name':'홍길동', 'age':30}\n",
    "f'나의 이름은 {d[\"name\"]}입니다. 나이는 {d[\"age\"]}입니다.'"
   ]
  },
  {
   "cell_type": "markdown",
   "id": "34c2f8f5-1e41-46ac-9262-8e88f5abf886",
   "metadata": {},
   "source": [
    "# 문자열 관련 함수들   \n",
    "\n",
    "* index vs find\n",
    "- index는 없는 정보에서 error가 뜬다 \n",
    "* find는 없는 정보에서 -1을 반환한다"
   ]
  },
  {
   "cell_type": "code",
   "execution_count": 72,
   "id": "4d5ec84e-e77d-4370-aef6-749250266218",
   "metadata": {},
   "outputs": [
    {
     "data": {
      "text/plain": [
       "2"
      ]
     },
     "execution_count": 72,
     "metadata": {},
     "output_type": "execute_result"
    }
   ],
   "source": [
    "# 문자 개수 세기 count\n",
    "a = 'hobby'\n",
    "a.count('b')"
   ]
  },
  {
   "cell_type": "code",
   "execution_count": 75,
   "id": "9337db8c-e027-49e9-9a5c-ff20b590a769",
   "metadata": {},
   "outputs": [
    {
     "data": {
      "text/plain": [
       "14"
      ]
     },
     "execution_count": 75,
     "metadata": {},
     "output_type": "execute_result"
    }
   ],
   "source": [
    "# 위치 알려주기 find\n",
    "a = \"Python is the best choice\"\n",
    "a.find('b')"
   ]
  },
  {
   "cell_type": "code",
   "execution_count": 76,
   "id": "8ed0835a-a210-4445-a55b-f8e61ff99013",
   "metadata": {},
   "outputs": [
    {
     "data": {
      "text/plain": [
       "-1"
      ]
     },
     "execution_count": 76,
     "metadata": {},
     "output_type": "execute_result"
    }
   ],
   "source": [
    "a.find('k')\n",
    "# 없는 정보는 -1로 반환한다"
   ]
  },
  {
   "cell_type": "code",
   "execution_count": 74,
   "id": "ca7e6ef2-8170-4ed6-bc37-778ffe3cbcfa",
   "metadata": {},
   "outputs": [
    {
     "data": {
      "text/plain": [
       "8"
      ]
     },
     "execution_count": 74,
     "metadata": {},
     "output_type": "execute_result"
    }
   ],
   "source": [
    "a = \"Life is too short\"\n",
    "a.index('t')"
   ]
  },
  {
   "cell_type": "markdown",
   "id": "cf66937f-a8b7-4343-ac37-e61a7ce09e5f",
   "metadata": {},
   "source": [
    "# 문자열 삽입 - join"
   ]
  },
  {
   "cell_type": "code",
   "execution_count": 77,
   "id": "950b5773-78ea-4e9a-993c-fada0e58d86f",
   "metadata": {},
   "outputs": [
    {
     "data": {
      "text/plain": [
       "'P,y,t,h,o,n, ,i,s, ,t,h,e, ,b,e,s,t, ,c,h,o,i,c,e'"
      ]
     },
     "execution_count": 77,
     "metadata": {},
     "output_type": "execute_result"
    }
   ],
   "source": [
    "','.join(a)"
   ]
  },
  {
   "cell_type": "markdown",
   "id": "a42780ab-e253-4268-9e22-1aa15fc31bfd",
   "metadata": {},
   "source": [
    "## 리스트에도 사용 가능"
   ]
  },
  {
   "cell_type": "code",
   "execution_count": 1,
   "id": "09142019-9979-4393-b18c-187bf1517437",
   "metadata": {},
   "outputs": [],
   "source": [
    "a = ['a','b','c','d']"
   ]
  },
  {
   "cell_type": "code",
   "execution_count": 2,
   "id": "072c66c0-6555-4cb5-89d7-185ad2aa6a9a",
   "metadata": {},
   "outputs": [
    {
     "data": {
      "text/plain": [
       "'a,b,c,d'"
      ]
     },
     "execution_count": 2,
     "metadata": {},
     "output_type": "execute_result"
    }
   ],
   "source": [
    "','.join(a)"
   ]
  },
  {
   "cell_type": "markdown",
   "id": "21b294fd-998c-4f66-b653-3f245cc7dfae",
   "metadata": {},
   "source": [
    "# 소문자를 대문자로 바꾸기 upper"
   ]
  },
  {
   "cell_type": "code",
   "execution_count": 5,
   "id": "dd4a9588-682d-4710-a91f-1435a2c392aa",
   "metadata": {},
   "outputs": [
    {
     "data": {
      "text/plain": [
       "'HI'"
      ]
     },
     "execution_count": 5,
     "metadata": {},
     "output_type": "execute_result"
    }
   ],
   "source": [
    "a = 'hi'\n",
    "a.upper()"
   ]
  },
  {
   "cell_type": "code",
   "execution_count": 7,
   "id": "14234383-3cb8-4c41-80cd-f2ec476d5795",
   "metadata": {},
   "outputs": [
    {
     "data": {
      "text/plain": [
       "\u001b[1;31mSignature:\u001b[0m \u001b[0ma\u001b[0m\u001b[1;33m.\u001b[0m\u001b[0mupper\u001b[0m\u001b[1;33m(\u001b[0m\u001b[1;33m)\u001b[0m\u001b[1;33m\u001b[0m\u001b[1;33m\u001b[0m\u001b[0m\n",
       "\u001b[1;31mDocstring:\u001b[0m Return a copy of the string converted to uppercase.\n",
       "\u001b[1;31mType:\u001b[0m      builtin_function_or_method"
      ]
     },
     "metadata": {},
     "output_type": "display_data"
    }
   ],
   "source": [
    "a.upper?\n",
    "#함수 뒤에 ?를 쓰며 설명을 볼 수 있다\n",
    "#()를 써도 기본 적인 동작을 하기 때문에 ()를 넣어야함"
   ]
  },
  {
   "cell_type": "code",
   "execution_count": 8,
   "id": "c05c4053-7b5e-402d-ad45-6320cc978d0f",
   "metadata": {},
   "outputs": [
    {
     "name": "stdout",
     "output_type": "stream",
     "text": [
      "Help on built-in function print in module builtins:\n",
      "\n",
      "print(...)\n",
      "    print(value, ..., sep=' ', end='\\n', file=sys.stdout, flush=False)\n",
      "    \n",
      "    Prints the values to a stream, or to sys.stdout by default.\n",
      "    Optional keyword arguments:\n",
      "    file:  a file-like object (stream); defaults to the current sys.stdout.\n",
      "    sep:   string inserted between values, default a space.\n",
      "    end:   string appended after the last value, default a newline.\n",
      "    flush: whether to forcibly flush the stream.\n",
      "\n"
     ]
    }
   ],
   "source": [
    "help(print)\n",
    "# help를 써도 됨\n",
    "# python 문법 -> documentaion을 먼저 보기"
   ]
  },
  {
   "cell_type": "markdown",
   "id": "e72f0fd4-6e2c-4415-9743-97abdaf698a5",
   "metadata": {},
   "source": [
    "## 소문자 바꾸기"
   ]
  },
  {
   "cell_type": "code",
   "execution_count": 9,
   "id": "37348de1-7f15-4e73-9f4b-8976328dae76",
   "metadata": {},
   "outputs": [
    {
     "data": {
      "text/plain": [
       "'hi'"
      ]
     },
     "execution_count": 9,
     "metadata": {},
     "output_type": "execute_result"
    }
   ],
   "source": [
    "a = 'HI'\n",
    "a.lower()"
   ]
  },
  {
   "cell_type": "code",
   "execution_count": 10,
   "id": "46f102bc-4b02-44e5-b5e5-fe6952cbbacf",
   "metadata": {},
   "outputs": [
    {
     "data": {
      "text/plain": [
       "'HI'"
      ]
     },
     "execution_count": 10,
     "metadata": {},
     "output_type": "execute_result"
    }
   ],
   "source": [
    "a"
   ]
  },
  {
   "cell_type": "markdown",
   "id": "a73f795c-b052-4e7d-8b79-3cff2322d486",
   "metadata": {},
   "source": [
    "# 공백 지우기\n",
    "* lstrip\n",
    "* rstrip"
   ]
  },
  {
   "cell_type": "code",
   "execution_count": 13,
   "id": "f507d667-6eb8-4413-b357-2216b1f09a09",
   "metadata": {},
   "outputs": [
    {
     "data": {
      "text/plain": [
       "'Hi'"
      ]
     },
     "execution_count": 13,
     "metadata": {},
     "output_type": "execute_result"
    }
   ],
   "source": [
    "a = ' Hi'\n",
    "a.lstrip()"
   ]
  },
  {
   "cell_type": "code",
   "execution_count": 14,
   "id": "512fcb4e-9132-4bb5-bc2a-21c45e284d50",
   "metadata": {},
   "outputs": [
    {
     "data": {
      "text/plain": [
       "'Hi'"
      ]
     },
     "execution_count": 14,
     "metadata": {},
     "output_type": "execute_result"
    }
   ],
   "source": [
    "a = 'Hi '\n",
    "a.rstrip()"
   ]
  },
  {
   "cell_type": "markdown",
   "id": "77cbc008-b389-497b-8034-5bbb44ccd7be",
   "metadata": {},
   "source": [
    "# 문자열 바꾸기 replace"
   ]
  },
  {
   "cell_type": "code",
   "execution_count": 17,
   "id": "081a47a4-a833-448b-b5ba-c7d0dc108835",
   "metadata": {},
   "outputs": [
    {
     "data": {
      "text/plain": [
       "\u001b[1;31mSignature:\u001b[0m \u001b[0ma\u001b[0m\u001b[1;33m.\u001b[0m\u001b[0mreplace\u001b[0m\u001b[1;33m(\u001b[0m\u001b[0mold\u001b[0m\u001b[1;33m,\u001b[0m \u001b[0mnew\u001b[0m\u001b[1;33m,\u001b[0m \u001b[0mcount\u001b[0m\u001b[1;33m=\u001b[0m\u001b[1;33m-\u001b[0m\u001b[1;36m1\u001b[0m\u001b[1;33m,\u001b[0m \u001b[1;33m/\u001b[0m\u001b[1;33m)\u001b[0m\u001b[1;33m\u001b[0m\u001b[1;33m\u001b[0m\u001b[0m\n",
       "\u001b[1;31mDocstring:\u001b[0m\n",
       "Return a copy with all occurrences of substring old replaced by new.\n",
       "\n",
       "  count\n",
       "    Maximum number of occurrences to replace.\n",
       "    -1 (the default value) means replace all occurrences.\n",
       "\n",
       "If the optional argument count is given, only the first count occurrences are\n",
       "replaced.\n",
       "\u001b[1;31mType:\u001b[0m      builtin_function_or_method"
      ]
     },
     "metadata": {},
     "output_type": "display_data"
    }
   ],
   "source": [
    "a = 'Life is too short'\n",
    "a.replace?"
   ]
  },
  {
   "cell_type": "code",
   "execution_count": 18,
   "id": "b969f07f-9fb0-43be-929d-d6debddfdaa3",
   "metadata": {},
   "outputs": [
    {
     "data": {
      "text/plain": [
       "'your leg is too short'"
      ]
     },
     "execution_count": 18,
     "metadata": {},
     "output_type": "execute_result"
    }
   ],
   "source": [
    "a.replace('Life', 'your leg')"
   ]
  },
  {
   "cell_type": "markdown",
   "id": "0d3cdb5b-a917-416d-ac2f-dabca05e7690",
   "metadata": {},
   "source": [
    "# 문자열 나누기 split"
   ]
  },
  {
   "cell_type": "code",
   "execution_count": 19,
   "id": "868d3414-f47c-4800-8d23-123d2c0ee2ce",
   "metadata": {},
   "outputs": [
    {
     "data": {
      "text/plain": [
       "['Life', 'is', 'too', 'short']"
      ]
     },
     "execution_count": 19,
     "metadata": {},
     "output_type": "execute_result"
    }
   ],
   "source": [
    "a = 'Life is too short'\n",
    "a.split()"
   ]
  },
  {
   "cell_type": "code",
   "execution_count": 20,
   "id": "00a02b9b-6b3a-4e95-9635-e272bd97ce50",
   "metadata": {},
   "outputs": [
    {
     "data": {
      "text/plain": [
       "\u001b[1;31mSignature:\u001b[0m \u001b[0ma\u001b[0m\u001b[1;33m.\u001b[0m\u001b[0msplit\u001b[0m\u001b[1;33m(\u001b[0m\u001b[0msep\u001b[0m\u001b[1;33m=\u001b[0m\u001b[1;32mNone\u001b[0m\u001b[1;33m,\u001b[0m \u001b[0mmaxsplit\u001b[0m\u001b[1;33m=\u001b[0m\u001b[1;33m-\u001b[0m\u001b[1;36m1\u001b[0m\u001b[1;33m)\u001b[0m\u001b[1;33m\u001b[0m\u001b[1;33m\u001b[0m\u001b[0m\n",
       "\u001b[1;31mDocstring:\u001b[0m\n",
       "Return a list of the substrings in the string, using sep as the separator string.\n",
       "\n",
       "  sep\n",
       "    The separator used to split the string.\n",
       "\n",
       "    When set to None (the default value), will split on any whitespace\n",
       "    character (including \\\\n \\\\r \\\\t \\\\f and spaces) and will discard\n",
       "    empty strings from the result.\n",
       "  maxsplit\n",
       "    Maximum number of splits (starting from the left).\n",
       "    -1 (the default value) means no limit.\n",
       "\n",
       "Note, str.split() is mainly useful for data that has been intentionally\n",
       "delimited.  With natural text that includes punctuation, consider using\n",
       "the regular expression module.\n",
       "\u001b[1;31mType:\u001b[0m      builtin_function_or_method"
      ]
     },
     "metadata": {},
     "output_type": "display_data"
    }
   ],
   "source": [
    "a.split?"
   ]
  },
  {
   "cell_type": "code",
   "execution_count": 23,
   "id": "66a0a235-453e-455b-b1cb-f7e12a83e9e3",
   "metadata": {},
   "outputs": [
    {
     "data": {
      "text/plain": [
       "['a', 'b', 'c', 'd']"
      ]
     },
     "execution_count": 23,
     "metadata": {},
     "output_type": "execute_result"
    }
   ],
   "source": [
    "b = 'a:b:c:d'\n",
    "b.split(':')"
   ]
  },
  {
   "cell_type": "markdown",
   "id": "34222772-3969-414f-99b6-9f58364dc709",
   "metadata": {},
   "source": [
    "# 변수"
   ]
  },
  {
   "cell_type": "code",
   "execution_count": 27,
   "id": "d82a2b83-c8c2-44c3-a43c-782506d9cf90",
   "metadata": {},
   "outputs": [
    {
     "data": {
      "text/plain": [
       "(1, int)"
      ]
     },
     "execution_count": 27,
     "metadata": {},
     "output_type": "execute_result"
    }
   ],
   "source": [
    "a = 1\n",
    "a, type(a)"
   ]
  },
  {
   "cell_type": "code",
   "execution_count": 28,
   "id": "92621918-8aa0-4542-b823-f7cf25dae5ad",
   "metadata": {},
   "outputs": [
    {
     "data": {
      "text/plain": [
       "('python', str)"
      ]
     },
     "execution_count": 28,
     "metadata": {},
     "output_type": "execute_result"
    }
   ],
   "source": [
    "b = 'python'\n",
    "b, type(b)"
   ]
  },
  {
   "cell_type": "code",
   "execution_count": 29,
   "id": "080c1f63-8ea6-44ca-b58f-5ebe3c4d8cf6",
   "metadata": {},
   "outputs": [
    {
     "data": {
      "text/plain": [
       "([1, 2, 3], list)"
      ]
     },
     "execution_count": 29,
     "metadata": {},
     "output_type": "execute_result"
    }
   ],
   "source": [
    "c = [1 ,2 ,3]\n",
    "c, type(c)"
   ]
  },
  {
   "cell_type": "code",
   "execution_count": 30,
   "id": "c1546944-8b34-45eb-9a46-f311dcc6fba5",
   "metadata": {},
   "outputs": [
    {
     "data": {
      "text/plain": [
       "2810764067056"
      ]
     },
     "execution_count": 30,
     "metadata": {},
     "output_type": "execute_result"
    }
   ],
   "source": [
    "id(a)\n",
    "# 변수가 갖고 있는 객체 주소를 return\n",
    "# 즉 a가 갖고 있는 memory의 객체 주소"
   ]
  },
  {
   "cell_type": "code",
   "execution_count": 42,
   "id": "5b530a5e-2ee9-4e8c-a439-bf6d404819cd",
   "metadata": {},
   "outputs": [
    {
     "data": {
      "text/plain": [
       "(2810889906624, 2810889906624)"
      ]
     },
     "execution_count": 42,
     "metadata": {},
     "output_type": "execute_result"
    }
   ],
   "source": [
    "# 문자열을 복사\n",
    "a = [1, 2, 3]\n",
    "b = a\n",
    "id(a), id(b)\n",
    "\n",
    "# 주소가 똑같음"
   ]
  },
  {
   "cell_type": "code",
   "execution_count": 43,
   "id": "b6237ca7-ac0b-40d2-826f-9b886fc509a1",
   "metadata": {},
   "outputs": [
    {
     "data": {
      "text/plain": [
       "True"
      ]
     },
     "execution_count": 43,
     "metadata": {},
     "output_type": "execute_result"
    }
   ],
   "source": [
    "a is b\n",
    "\n",
    "# 값이 같으니까 기존 memory를 그대로 참조\n",
    "# 복사가 안됨"
   ]
  },
  {
   "cell_type": "code",
   "execution_count": 36,
   "id": "65b3c2d3-fb51-4ebb-8b62-0c4c09428fee",
   "metadata": {},
   "outputs": [],
   "source": [
    "del b"
   ]
  },
  {
   "cell_type": "code",
   "execution_count": 37,
   "id": "db0bf27a-de5a-4eab-99ef-b6c44e0a28a6",
   "metadata": {},
   "outputs": [
    {
     "ename": "NameError",
     "evalue": "name 'b' is not defined",
     "output_type": "error",
     "traceback": [
      "\u001b[1;31m---------------------------------------------------------------------------\u001b[0m",
      "\u001b[1;31mNameError\u001b[0m                                 Traceback (most recent call last)",
      "Cell \u001b[1;32mIn[37], line 1\u001b[0m\n\u001b[1;32m----> 1\u001b[0m \u001b[43mb\u001b[49m\n",
      "\u001b[1;31mNameError\u001b[0m: name 'b' is not defined"
     ]
    }
   ],
   "source": [
    "b"
   ]
  },
  {
   "cell_type": "code",
   "execution_count": 38,
   "id": "b1085d5e-a7d1-412a-b8e3-626908343e9f",
   "metadata": {},
   "outputs": [
    {
     "data": {
      "text/plain": [
       "[1, 2, 3]"
      ]
     },
     "execution_count": 38,
     "metadata": {},
     "output_type": "execute_result"
    }
   ],
   "source": [
    "a"
   ]
  },
  {
   "cell_type": "code",
   "execution_count": 44,
   "id": "0c1f67c8-a564-4cfc-9fad-eccea4d21a87",
   "metadata": {},
   "outputs": [
    {
     "data": {
      "text/plain": [
       "[1, 4, 3]"
      ]
     },
     "execution_count": 44,
     "metadata": {},
     "output_type": "execute_result"
    }
   ],
   "source": [
    "a[1] = 4\n",
    "a"
   ]
  },
  {
   "cell_type": "code",
   "execution_count": 45,
   "id": "23ddc46e-f961-4c7d-8a37-281fb7720a9e",
   "metadata": {},
   "outputs": [
    {
     "data": {
      "text/plain": [
       "[1, 4, 3]"
      ]
     },
     "execution_count": 45,
     "metadata": {},
     "output_type": "execute_result"
    }
   ],
   "source": [
    "b\n",
    "# 파이썬 튜터 참고"
   ]
  },
  {
   "cell_type": "code",
   "execution_count": 50,
   "id": "d844646a-0ea2-409b-a66c-1d70742993d1",
   "metadata": {},
   "outputs": [],
   "source": [
    "num1 = 10"
   ]
  },
  {
   "cell_type": "code",
   "execution_count": 53,
   "id": "c43e6cb8-34ba-4670-bccf-53d5dec53e4a",
   "metadata": {},
   "outputs": [
    {
     "data": {
      "text/plain": [
       "(10, 10)"
      ]
     },
     "execution_count": 53,
     "metadata": {},
     "output_type": "execute_result"
    }
   ],
   "source": [
    "num2 = num1\n",
    "num1, num2"
   ]
  },
  {
   "cell_type": "code",
   "execution_count": 54,
   "id": "a4fc5fd7-30d2-4745-88d1-f9867a1888b2",
   "metadata": {},
   "outputs": [
    {
     "data": {
      "text/plain": [
       "(11, 10)"
      ]
     },
     "execution_count": 54,
     "metadata": {},
     "output_type": "execute_result"
    }
   ],
   "source": [
    "num1 = 11\n",
    "num1, num2"
   ]
  },
  {
   "cell_type": "code",
   "execution_count": 57,
   "id": "d08126a7-2ba2-4c75-9ea7-1e6dd09129b0",
   "metadata": {},
   "outputs": [
    {
     "data": {
      "text/plain": [
       "False"
      ]
     },
     "execution_count": 57,
     "metadata": {},
     "output_type": "execute_result"
    }
   ],
   "source": [
    "num1 is num2"
   ]
  },
  {
   "cell_type": "code",
   "execution_count": 58,
   "id": "a5ae9b83-7a21-45fc-9ea3-b5f0fc51fc66",
   "metadata": {},
   "outputs": [
    {
     "data": {
      "text/plain": [
       "(2810889890112, 2810890156608)"
      ]
     },
     "execution_count": 58,
     "metadata": {},
     "output_type": "execute_result"
    }
   ],
   "source": [
    "a = [1, 2, 3]\n",
    "b = a[:]\n",
    "id(a), id(b)\n",
    "\n",
    "# 다른 이유? 변수를 그대로 집어넣지 않았기 때문"
   ]
  },
  {
   "cell_type": "code",
   "execution_count": 60,
   "id": "0742b213-fa6e-4803-88fa-911fcf270b9a",
   "metadata": {},
   "outputs": [
    {
     "data": {
      "text/plain": [
       "(2810890158784, 2810847683328)"
      ]
     },
     "execution_count": 60,
     "metadata": {},
     "output_type": "execute_result"
    }
   ],
   "source": [
    "c = [1,2,3]\n",
    "d = [1,2,3]\n",
    "id(c), id(d)\n",
    "\n",
    "# 값을 입력한 경우 새로운 주고가 할당\n",
    "# 변수를 복사하는 것은 기존 참조를 유지"
   ]
  },
  {
   "cell_type": "markdown",
   "id": "df5d6029-77fe-49b1-82cd-8cb90e8375ed",
   "metadata": {},
   "source": [
    "# Copy \n",
    "* 위에서 한 내용 : 앝은 복사\n",
    "* 아래 내용 : 깊은 복사, 객체까지 완전한 복사"
   ]
  },
  {
   "cell_type": "code",
   "execution_count": 63,
   "id": "a069bc74-81d5-4fe5-84c7-dbe9f2b8c0a9",
   "metadata": {},
   "outputs": [
    {
     "data": {
      "text/plain": [
       "(2810890021440, 2810890140288)"
      ]
     },
     "execution_count": 63,
     "metadata": {},
     "output_type": "execute_result"
    }
   ],
   "source": [
    "from copy import copy\n",
    "a = [1,2,3]\n",
    "b = copy(a)\n",
    "id(a), id(b)"
   ]
  },
  {
   "cell_type": "code",
   "execution_count": 64,
   "id": "1bbaf860-3437-4533-bbe5-ff914fa1e7aa",
   "metadata": {},
   "outputs": [
    {
     "data": {
      "text/plain": [
       "False"
      ]
     },
     "execution_count": 64,
     "metadata": {},
     "output_type": "execute_result"
    }
   ],
   "source": [
    "b is a"
   ]
  },
  {
   "cell_type": "markdown",
   "id": "78f43294-5d65-46fb-971a-9760617ed367",
   "metadata": {},
   "source": [
    "# 변수를 만드는 여러가지 방법"
   ]
  },
  {
   "cell_type": "code",
   "execution_count": 67,
   "id": "b109cc8d-9886-446f-8e41-aa724cf52550",
   "metadata": {},
   "outputs": [],
   "source": [
    "a, b = ('python', 'life')"
   ]
  },
  {
   "cell_type": "code",
   "execution_count": 68,
   "id": "ee563006-e454-4ea0-b12f-44c0ca6a4efb",
   "metadata": {},
   "outputs": [
    {
     "data": {
      "text/plain": [
       "'python'"
      ]
     },
     "execution_count": 68,
     "metadata": {},
     "output_type": "execute_result"
    }
   ],
   "source": [
    "a"
   ]
  },
  {
   "cell_type": "code",
   "execution_count": 69,
   "id": "e71cdf4f-984d-4483-bbf1-cd5424a8cac2",
   "metadata": {},
   "outputs": [
    {
     "data": {
      "text/plain": [
       "'life'"
      ]
     },
     "execution_count": 69,
     "metadata": {},
     "output_type": "execute_result"
    }
   ],
   "source": [
    "b"
   ]
  },
  {
   "cell_type": "code",
   "execution_count": 70,
   "id": "53c8ae45-f502-498a-9970-a20c8c27f220",
   "metadata": {},
   "outputs": [],
   "source": [
    "(a, b) = 'python', 'life'"
   ]
  },
  {
   "cell_type": "code",
   "execution_count": 71,
   "id": "28d4d17b-736d-4f2c-bb12-82dbecbbcb99",
   "metadata": {},
   "outputs": [],
   "source": [
    "[a, b] = ['python', 'life']"
   ]
  },
  {
   "cell_type": "code",
   "execution_count": 72,
   "id": "c366cee7-e901-43bc-b04a-03b8e57cbe50",
   "metadata": {},
   "outputs": [
    {
     "data": {
      "text/plain": [
       "('python', 'life')"
      ]
     },
     "execution_count": 72,
     "metadata": {},
     "output_type": "execute_result"
    }
   ],
   "source": [
    "a, b"
   ]
  },
  {
   "cell_type": "code",
   "execution_count": 73,
   "id": "e18f94e0-ec33-42bb-aa90-a0421f5e09be",
   "metadata": {},
   "outputs": [],
   "source": [
    "a = 3\n",
    "b = 5"
   ]
  },
  {
   "cell_type": "code",
   "execution_count": 74,
   "id": "92972064-6844-4383-be1c-66d04871a575",
   "metadata": {},
   "outputs": [],
   "source": [
    "a, b = b, a"
   ]
  },
  {
   "cell_type": "code",
   "execution_count": 75,
   "id": "96357330-5f7a-4dfc-94b5-bd7a3e191931",
   "metadata": {},
   "outputs": [
    {
     "name": "stdout",
     "output_type": "stream",
     "text": [
      "5 3\n"
     ]
    }
   ],
   "source": [
    "print(a, b)"
   ]
  },
  {
   "cell_type": "markdown",
   "id": "4254577e-bb84-4f39-916a-d604e9eb5de0",
   "metadata": {},
   "source": [
    "# 리스트 객체"
   ]
  },
  {
   "cell_type": "code",
   "execution_count": 1,
   "id": "20611156-d8dc-4c7d-8b01-a0eb77cb0ac2",
   "metadata": {},
   "outputs": [
    {
     "data": {
      "text/plain": [
       "[1, 3, 5, 7, 9]"
      ]
     },
     "execution_count": 1,
     "metadata": {},
     "output_type": "execute_result"
    }
   ],
   "source": [
    "odd = [1, 3, 5, 7, 9]\n",
    "odd"
   ]
  },
  {
   "cell_type": "code",
   "execution_count": 2,
   "id": "924e9254-e729-4909-a6a6-546d24df07a7",
   "metadata": {},
   "outputs": [
    {
     "data": {
      "text/plain": [
       "list"
      ]
     },
     "execution_count": 2,
     "metadata": {},
     "output_type": "execute_result"
    }
   ],
   "source": [
    "type(odd)\n",
    "\n",
    "#특징 -> 다양한 요소의 자료형이 섞일 수 있다."
   ]
  },
  {
   "cell_type": "code",
   "execution_count": 3,
   "id": "c8dc07f6-3083-4cee-90f3-31dc20ca94c6",
   "metadata": {},
   "outputs": [
    {
     "data": {
      "text/plain": [
       "([],\n",
       " [1, 2, 3],\n",
       " ['Life', 'is', 'too', 'short'],\n",
       " [1, 2, 'Life', 'is'],\n",
       " [1, 2, ['Life', 'is']])"
      ]
     },
     "execution_count": 3,
     "metadata": {},
     "output_type": "execute_result"
    }
   ],
   "source": [
    "a = []\n",
    "b = [1, 2, 3]\n",
    "c = ['Life', 'is', 'too', 'short']\n",
    "d = [1, 2, 'Life', 'is']\n",
    "e = [1, 2, ['Life', 'is']]\n",
    "\n",
    "a,b,c,d,e"
   ]
  },
  {
   "cell_type": "code",
   "execution_count": 5,
   "id": "44a6af37-e0e7-48d9-b120-125cb3eb6f32",
   "metadata": {},
   "outputs": [
    {
     "data": {
      "text/plain": [
       "([], list)"
      ]
     },
     "execution_count": 5,
     "metadata": {},
     "output_type": "execute_result"
    }
   ],
   "source": [
    "a = list()\n",
    "a, type(a)"
   ]
  },
  {
   "cell_type": "markdown",
   "id": "31830f21-e1b9-49f2-8097-ee229956b5b8",
   "metadata": {},
   "source": [
    "## 리스트의 인덱싱과 슬라이싱"
   ]
  },
  {
   "cell_type": "code",
   "execution_count": 6,
   "id": "c7b571fc-d60a-4586-9fec-ec4c3f7629eb",
   "metadata": {},
   "outputs": [
    {
     "data": {
      "text/plain": [
       "1"
      ]
     },
     "execution_count": 6,
     "metadata": {},
     "output_type": "execute_result"
    }
   ],
   "source": [
    "a = [1, 2, 3]\n",
    "a[0]"
   ]
  },
  {
   "cell_type": "code",
   "execution_count": 7,
   "id": "244ba923-a932-48fd-9060-1d8bb49b7d12",
   "metadata": {},
   "outputs": [
    {
     "data": {
      "text/plain": [
       "4"
      ]
     },
     "execution_count": 7,
     "metadata": {},
     "output_type": "execute_result"
    }
   ],
   "source": [
    "a[0] + a[2]"
   ]
  },
  {
   "cell_type": "code",
   "execution_count": 20,
   "id": "621f7782-3de1-4b3e-bf6b-3a13448b2b9d",
   "metadata": {},
   "outputs": [
    {
     "data": {
      "text/plain": [
       "['a', 'b', ['Life', 'is']]"
      ]
     },
     "execution_count": 20,
     "metadata": {},
     "output_type": "execute_result"
    }
   ],
   "source": [
    "a[-1]"
   ]
  },
  {
   "cell_type": "markdown",
   "id": "91899959-92db-430a-866f-6fcda0d120f3",
   "metadata": {},
   "source": [
    "## 이중 리스트 인덱싱"
   ]
  },
  {
   "cell_type": "code",
   "execution_count": 9,
   "id": "f2fc1d5b-718e-4923-b643-846071a20082",
   "metadata": {},
   "outputs": [],
   "source": [
    "a = [1, 2, 3, ['a', 'b', 'c']]"
   ]
  },
  {
   "cell_type": "code",
   "execution_count": 10,
   "id": "c5e20857-b06c-401b-a5b3-b7727f973488",
   "metadata": {},
   "outputs": [
    {
     "data": {
      "text/plain": [
       "['a', 'b', 'c']"
      ]
     },
     "execution_count": 10,
     "metadata": {},
     "output_type": "execute_result"
    }
   ],
   "source": [
    "a[0]\n"
   ]
  },
  {
   "cell_type": "code",
   "execution_count": 11,
   "id": "6c7521d6-dea4-4eca-9062-c38c91eed4d4",
   "metadata": {},
   "outputs": [
    {
     "data": {
      "text/plain": [
       "['a', 'b', 'c']"
      ]
     },
     "execution_count": 11,
     "metadata": {},
     "output_type": "execute_result"
    }
   ],
   "source": [
    "a[-1]"
   ]
  },
  {
   "cell_type": "code",
   "execution_count": 12,
   "id": "154459f6-d022-4ffb-83ba-e187bde9fd1f",
   "metadata": {},
   "outputs": [
    {
     "data": {
      "text/plain": [
       "['a', 'b', 'c']"
      ]
     },
     "execution_count": 12,
     "metadata": {},
     "output_type": "execute_result"
    }
   ],
   "source": [
    "a[3]"
   ]
  },
  {
   "cell_type": "code",
   "execution_count": 13,
   "id": "02419c5c-9969-45bc-a9ed-bf3ce0e4f2b1",
   "metadata": {},
   "outputs": [
    {
     "data": {
      "text/plain": [
       "'a'"
      ]
     },
     "execution_count": 13,
     "metadata": {},
     "output_type": "execute_result"
    }
   ],
   "source": [
    "a[-1][0]"
   ]
  },
  {
   "cell_type": "code",
   "execution_count": 14,
   "id": "e54b132d-aa2e-4db1-8219-669de414f442",
   "metadata": {},
   "outputs": [
    {
     "data": {
      "text/plain": [
       "'b'"
      ]
     },
     "execution_count": 14,
     "metadata": {},
     "output_type": "execute_result"
    }
   ],
   "source": [
    "a[-1][1]"
   ]
  },
  {
   "cell_type": "code",
   "execution_count": 15,
   "id": "f24e8cec-ac5f-4430-803d-d56d731f49ed",
   "metadata": {},
   "outputs": [
    {
     "data": {
      "text/plain": [
       "'c'"
      ]
     },
     "execution_count": 15,
     "metadata": {},
     "output_type": "execute_result"
    }
   ],
   "source": [
    "a[-1][2]"
   ]
  },
  {
   "cell_type": "markdown",
   "id": "13c26df6-ec2f-4ed7-ab04-951c28fc254a",
   "metadata": {},
   "source": [
    "## 삼중 리스트 인덱싱"
   ]
  },
  {
   "cell_type": "code",
   "execution_count": 16,
   "id": "e15d68b1-73af-41dc-abf1-c95efa532cfb",
   "metadata": {},
   "outputs": [],
   "source": [
    "a = [1, 2, ['a', 'b', ['Life', 'is']]]"
   ]
  },
  {
   "cell_type": "code",
   "execution_count": 17,
   "id": "6536660e-58af-4285-96d6-5bbead0a878f",
   "metadata": {},
   "outputs": [
    {
     "data": {
      "text/plain": [
       "'Life'"
      ]
     },
     "execution_count": 17,
     "metadata": {},
     "output_type": "execute_result"
    }
   ],
   "source": [
    "a[2][2][0]"
   ]
  },
  {
   "cell_type": "markdown",
   "id": "977d61c5-2914-4e0f-8f26-c0e4d81837bd",
   "metadata": {},
   "source": [
    "## 리스트의 슬라이싱"
   ]
  },
  {
   "cell_type": "code",
   "execution_count": 22,
   "id": "e100ccea-bef9-496b-9505-1278df73b700",
   "metadata": {},
   "outputs": [
    {
     "data": {
      "text/plain": [
       "[1, 2]"
      ]
     },
     "execution_count": 22,
     "metadata": {},
     "output_type": "execute_result"
    }
   ],
   "source": [
    "a = [1, 2, 3, 4, 5]\n",
    "a[0:2]"
   ]
  },
  {
   "cell_type": "code",
   "execution_count": 24,
   "id": "836ded0d-f83a-4b83-af45-adbe453fd3c9",
   "metadata": {},
   "outputs": [
    {
     "data": {
      "text/plain": [
       "'12'"
      ]
     },
     "execution_count": 24,
     "metadata": {},
     "output_type": "execute_result"
    }
   ],
   "source": [
    "a = \"12345\"\n",
    "a[0:2]"
   ]
  },
  {
   "cell_type": "code",
   "execution_count": 25,
   "id": "c07c0b6e-cf2f-4106-85ee-11ad371f41f3",
   "metadata": {},
   "outputs": [],
   "source": [
    "a = [1, 2, 3, 4, 5]\n",
    "b = a[:2]\n",
    "c = a[2:]"
   ]
  },
  {
   "cell_type": "code",
   "execution_count": 26,
   "id": "47f4b6ca-21b5-4646-b6fd-e0aeb9aa0c02",
   "metadata": {},
   "outputs": [
    {
     "data": {
      "text/plain": [
       "[1, 2]"
      ]
     },
     "execution_count": 26,
     "metadata": {},
     "output_type": "execute_result"
    }
   ],
   "source": [
    "b"
   ]
  },
  {
   "cell_type": "code",
   "execution_count": 27,
   "id": "d4a76cd0-fd60-4386-b171-07192fcbdb68",
   "metadata": {},
   "outputs": [
    {
     "data": {
      "text/plain": [
       "[3, 4, 5]"
      ]
     },
     "execution_count": 27,
     "metadata": {},
     "output_type": "execute_result"
    }
   ],
   "source": [
    "c"
   ]
  },
  {
   "cell_type": "code",
   "execution_count": 28,
   "id": "83959f15-da7a-4c4b-88b4-fd50f7c9affa",
   "metadata": {},
   "outputs": [
    {
     "data": {
      "text/plain": [
       "[3, ['a', 'b', 'c'], 4]"
      ]
     },
     "execution_count": 28,
     "metadata": {},
     "output_type": "execute_result"
    }
   ],
   "source": [
    "a = [1, 2, 3, ['a', 'b', 'c'], 4, 5]\n",
    "a[2:5]"
   ]
  },
  {
   "cell_type": "code",
   "execution_count": 29,
   "id": "3389f700-957f-4fad-8631-866d966e130e",
   "metadata": {},
   "outputs": [
    {
     "data": {
      "text/plain": [
       "['a', 'b']"
      ]
     },
     "execution_count": 29,
     "metadata": {},
     "output_type": "execute_result"
    }
   ],
   "source": [
    "a[3][:2]"
   ]
  },
  {
   "cell_type": "markdown",
   "id": "6354f0d7-0ac9-4f84-a1f3-01a50dc15eb5",
   "metadata": {},
   "source": [
    "## 리스트 더하기"
   ]
  },
  {
   "cell_type": "code",
   "execution_count": 31,
   "id": "bccbefd8-bf59-4fd0-b77d-b92ba515e7cc",
   "metadata": {},
   "outputs": [
    {
     "data": {
      "text/plain": [
       "[1, 3]"
      ]
     },
     "execution_count": 31,
     "metadata": {},
     "output_type": "execute_result"
    }
   ],
   "source": [
    "a = [1,2,3]\n",
    "del a[1]\n",
    "a\n",
    "\n",
    "#리스트는 수정과 삭제가 가능한 mutable객체이다"
   ]
  },
  {
   "cell_type": "code",
   "execution_count": 33,
   "id": "b57e59cd-1f00-4f82-9eec-aea0a36a2f02",
   "metadata": {},
   "outputs": [
    {
     "data": {
      "text/plain": [
       "[1, 2]"
      ]
     },
     "execution_count": 33,
     "metadata": {},
     "output_type": "execute_result"
    }
   ],
   "source": [
    "a = [1,2,3,4,5]\n",
    "del a[2:]\n",
    "a"
   ]
  },
  {
   "cell_type": "markdown",
   "id": "97ef19ae-4e7d-4a96-8b04-a09392b4fa8b",
   "metadata": {},
   "source": [
    "## 리스트 관련 함수"
   ]
  },
  {
   "cell_type": "markdown",
   "id": "16960061-e633-48a6-93fe-e9679c551b25",
   "metadata": {},
   "source": [
    "### 🌟🌟리스트 요소 추가 append"
   ]
  },
  {
   "cell_type": "code",
   "execution_count": 36,
   "id": "6a22aceb-4395-4a67-a7a8-ea8437d0fa65",
   "metadata": {},
   "outputs": [
    {
     "data": {
      "text/plain": [
       "[1, 2, 3]"
      ]
     },
     "execution_count": 36,
     "metadata": {},
     "output_type": "execute_result"
    }
   ],
   "source": [
    "a = [1, 2, 3]\n",
    "a"
   ]
  },
  {
   "cell_type": "code",
   "execution_count": 37,
   "id": "b743a741-b6d7-4ef4-87b9-75bea2a0d1c6",
   "metadata": {},
   "outputs": [
    {
     "data": {
      "text/plain": [
       "[1, 2, 3, 4]"
      ]
     },
     "execution_count": 37,
     "metadata": {},
     "output_type": "execute_result"
    }
   ],
   "source": [
    "a.append(4)\n",
    "# 맨 마지막에 추가\n",
    "a"
   ]
  },
  {
   "cell_type": "markdown",
   "id": "eb463c84-0d06-471b-ad54-171c0ab83110",
   "metadata": {},
   "source": [
    "### 리스트 정렬 sort"
   ]
  },
  {
   "cell_type": "code",
   "execution_count": 39,
   "id": "5be86236-7e3a-4c67-875a-81f6603d3419",
   "metadata": {},
   "outputs": [
    {
     "data": {
      "text/plain": [
       "[1, 2, 3, 4]"
      ]
     },
     "execution_count": 39,
     "metadata": {},
     "output_type": "execute_result"
    }
   ],
   "source": [
    "a = [1, 4, 3, 2]\n",
    "a.sort()\n",
    "a"
   ]
  },
  {
   "cell_type": "code",
   "execution_count": 40,
   "id": "46204903-eff1-4154-b997-97547eca27ce",
   "metadata": {},
   "outputs": [
    {
     "data": {
      "text/plain": [
       "[4, 3, 2, 1]"
      ]
     },
     "execution_count": 40,
     "metadata": {},
     "output_type": "execute_result"
    }
   ],
   "source": [
    "a.sort(reverse = True)\n",
    "a"
   ]
  },
  {
   "cell_type": "markdown",
   "id": "58452911-14a6-4bf6-86ef-9a283aa9278c",
   "metadata": {},
   "source": [
    "### index 함수"
   ]
  },
  {
   "cell_type": "code",
   "execution_count": 41,
   "id": "7c8527d7-f4ee-4ff9-8038-88202f44cad7",
   "metadata": {},
   "outputs": [
    {
     "data": {
      "text/plain": [
       "2"
      ]
     },
     "execution_count": 41,
     "metadata": {},
     "output_type": "execute_result"
    }
   ],
   "source": [
    "a = [1,2,3]\n",
    "a.index(3)"
   ]
  },
  {
   "cell_type": "markdown",
   "id": "04551bd5-fea9-40bb-9dae-1f65e09a86a0",
   "metadata": {},
   "source": [
    "### 리스트 요소 삽입 insert"
   ]
  },
  {
   "cell_type": "code",
   "execution_count": 42,
   "id": "ab9ab766-fc46-417a-8e78-9ad50fc527ac",
   "metadata": {},
   "outputs": [
    {
     "data": {
      "text/plain": [
       "[4, 1, 2, 3]"
      ]
     },
     "execution_count": 42,
     "metadata": {},
     "output_type": "execute_result"
    }
   ],
   "source": [
    "a = [1, 2, 3]\n",
    "a.insert(0, 4)\n",
    "a"
   ]
  },
  {
   "cell_type": "code",
   "execution_count": 43,
   "id": "bb94774a-cd90-48ef-971a-2b0a2b0a97dc",
   "metadata": {},
   "outputs": [
    {
     "data": {
      "text/plain": [
       "\u001b[1;31mSignature:\u001b[0m \u001b[0ma\u001b[0m\u001b[1;33m.\u001b[0m\u001b[0minsert\u001b[0m\u001b[1;33m(\u001b[0m\u001b[0mindex\u001b[0m\u001b[1;33m,\u001b[0m \u001b[0mobject\u001b[0m\u001b[1;33m,\u001b[0m \u001b[1;33m/\u001b[0m\u001b[1;33m)\u001b[0m\u001b[1;33m\u001b[0m\u001b[1;33m\u001b[0m\u001b[0m\n",
       "\u001b[1;31mDocstring:\u001b[0m Insert object before index.\n",
       "\u001b[1;31mType:\u001b[0m      builtin_function_or_method"
      ]
     },
     "metadata": {},
     "output_type": "display_data"
    }
   ],
   "source": [
    "a.insert?"
   ]
  },
  {
   "cell_type": "markdown",
   "id": "f5ba09cc-a0cd-49ec-bda1-787377d7d3b7",
   "metadata": {},
   "source": [
    "### remove"
   ]
  },
  {
   "cell_type": "code",
   "execution_count": 48,
   "id": "3756ce4b-80ee-478f-bf4a-93ee24557294",
   "metadata": {},
   "outputs": [],
   "source": [
    "a = [1,2,3,1,2,3]\n",
    "a.remove(3)"
   ]
  },
  {
   "cell_type": "code",
   "execution_count": 49,
   "id": "0f6db8cc-8482-4b85-95f8-32570aa30207",
   "metadata": {},
   "outputs": [
    {
     "data": {
      "text/plain": [
       "[1, 2, 1, 2, 3]"
      ]
     },
     "execution_count": 49,
     "metadata": {},
     "output_type": "execute_result"
    }
   ],
   "source": [
    "a"
   ]
  },
  {
   "cell_type": "code",
   "execution_count": 50,
   "id": "1b793dc9-ecdc-498a-9d63-a1fc280be483",
   "metadata": {},
   "outputs": [
    {
     "data": {
      "text/plain": [
       "[1, 2, 1, 2]"
      ]
     },
     "execution_count": 50,
     "metadata": {},
     "output_type": "execute_result"
    }
   ],
   "source": [
    "a.remove(3)\n",
    "a\n",
    "# 원본을 삭제한다"
   ]
  },
  {
   "cell_type": "markdown",
   "id": "cb6787c5-5fa6-40cb-8abe-42c5e3a6a6f9",
   "metadata": {},
   "source": [
    "### pop"
   ]
  },
  {
   "cell_type": "code",
   "execution_count": 51,
   "id": "1382bc33-bfc0-4661-894d-2550e39ac1c7",
   "metadata": {},
   "outputs": [
    {
     "data": {
      "text/plain": [
       "2"
      ]
     },
     "execution_count": 51,
     "metadata": {},
     "output_type": "execute_result"
    }
   ],
   "source": [
    "a.pop()"
   ]
  },
  {
   "cell_type": "markdown",
   "id": "cdf41779-13b6-412e-aec7-1cc9abe73b6d",
   "metadata": {},
   "source": [
    "### count"
   ]
  },
  {
   "cell_type": "code",
   "execution_count": 52,
   "id": "bd44e7a1-6587-4736-97ef-303d8bdcce92",
   "metadata": {},
   "outputs": [
    {
     "data": {
      "text/plain": [
       "2"
      ]
     },
     "execution_count": 52,
     "metadata": {},
     "output_type": "execute_result"
    }
   ],
   "source": [
    "a = [1,3,2,1]\n",
    "a.count(1)"
   ]
  },
  {
   "cell_type": "markdown",
   "id": "f15cb3ea-555f-4bef-87f7-29996b8d00a1",
   "metadata": {},
   "source": [
    "### extend"
   ]
  },
  {
   "cell_type": "code",
   "execution_count": 53,
   "id": "e5af7089-9995-403e-b263-6d8c9b51ab5a",
   "metadata": {},
   "outputs": [
    {
     "data": {
      "text/plain": [
       "[1, 2, 3, 4, 5]"
      ]
     },
     "execution_count": 53,
     "metadata": {},
     "output_type": "execute_result"
    }
   ],
   "source": [
    "a = [1,2,3]\n",
    "a.extend([4,5])\n",
    "a"
   ]
  },
  {
   "cell_type": "code",
   "execution_count": 55,
   "id": "47a93e55-41f1-4f0d-a270-ff98ab2c2233",
   "metadata": {},
   "outputs": [
    {
     "data": {
      "text/plain": [
       "[1, 2, 3, 4, 5, 6, 7, 6, 7]"
      ]
     },
     "execution_count": 55,
     "metadata": {},
     "output_type": "execute_result"
    }
   ],
   "source": [
    "b = [6,7]\n",
    "a.extend(b)\n",
    "a"
   ]
  },
  {
   "cell_type": "code",
   "execution_count": 56,
   "id": "6296cffe-91fd-4ecf-a425-b8133b5f5632",
   "metadata": {},
   "outputs": [],
   "source": [
    "a += [4, 5]"
   ]
  },
  {
   "cell_type": "code",
   "execution_count": 57,
   "id": "3ce4f047-e4aa-49f7-8872-e6cb87226439",
   "metadata": {},
   "outputs": [
    {
     "data": {
      "text/plain": [
       "[1, 2, 3, 4, 5, 6, 7, 6, 7, 4, 5]"
      ]
     },
     "execution_count": 57,
     "metadata": {},
     "output_type": "execute_result"
    }
   ],
   "source": [
    "a"
   ]
  },
  {
   "cell_type": "code",
   "execution_count": 59,
   "id": "54764bb2-dcd4-48f0-9ad0-a90a26efc7d4",
   "metadata": {},
   "outputs": [
    {
     "data": {
      "text/plain": [
       "[1, 2, 3, 4, 5, 6, 7, 6, 7, 4, 5, 9, 9, 9, 9]"
      ]
     },
     "execution_count": 59,
     "metadata": {},
     "output_type": "execute_result"
    }
   ],
   "source": [
    "a = a + [9, 9]\n",
    "a\n",
    "# += -> + 하자마자 원본에 넣어달라는 뜻"
   ]
  },
  {
   "cell_type": "markdown",
   "id": "cf1e04bb-5ec9-4a81-be0b-484a31fc36ad",
   "metadata": {},
   "source": [
    "# 튜플 객체\n",
    "* 리스트는 [], 튜플은 ()\n",
    "* 리스트는 mutable, 튜플은 immutable\n",
    "* 튜플은 반드시 2개 이상을 요구\n",
    "* 변경을 하면 안되는 곳에 쓴다\n",
    "* input과 output이 변경이 안되고 추가를 해야할 때 -> DB에서 모듈과 모듈 사이에서\n",
    "    * 외부에서 수정을 하면 안되는 정보들 ex> 회원정보"
   ]
  },
  {
   "cell_type": "code",
   "execution_count": 61,
   "id": "f23de10a-551a-4b3c-80c7-04582ebb76b6",
   "metadata": {},
   "outputs": [
    {
     "data": {
      "text/plain": [
       "((), (1,), (1, 2, 3), (1, 2, 3), ('a', 'b', ('ab', 'cd')))"
      ]
     },
     "execution_count": 61,
     "metadata": {},
     "output_type": "execute_result"
    }
   ],
   "source": [
    "t1 = ()\n",
    "t2 = (1,)\n",
    "t3 = (1, 2, 3)\n",
    "t4 = 1, 2, 3\n",
    "t5 = ('a', 'b', ('ab', 'cd'))\n",
    "t1,t2,t3,t4,t5"
   ]
  },
  {
   "cell_type": "code",
   "execution_count": 62,
   "id": "ed0f0900-7c32-47d6-a87b-7fac8d886786",
   "metadata": {},
   "outputs": [
    {
     "data": {
      "text/plain": [
       "tuple"
      ]
     },
     "execution_count": 62,
     "metadata": {},
     "output_type": "execute_result"
    }
   ],
   "source": [
    "type(t1)"
   ]
  },
  {
   "cell_type": "code",
   "execution_count": 66,
   "id": "3d524345-00cd-4322-88f5-fdf311158597",
   "metadata": {},
   "outputs": [
    {
     "data": {
      "text/plain": [
       "(int, tuple)"
      ]
     },
     "execution_count": 66,
     "metadata": {},
     "output_type": "execute_result"
    }
   ],
   "source": [
    "type((1)), type((1, )) # 튜플이 안됨"
   ]
  },
  {
   "cell_type": "markdown",
   "id": "2e459512-666b-492d-addc-cddc58bde01b",
   "metadata": {},
   "source": [
    "### 튜플 요소 삭제/변경 시도"
   ]
  },
  {
   "cell_type": "code",
   "execution_count": 68,
   "id": "3e47f6a4-8394-4944-bd9a-61db198e9d48",
   "metadata": {},
   "outputs": [
    {
     "ename": "TypeError",
     "evalue": "'tuple' object doesn't support item deletion",
     "output_type": "error",
     "traceback": [
      "\u001b[1;31m---------------------------------------------------------------------------\u001b[0m",
      "\u001b[1;31mTypeError\u001b[0m                                 Traceback (most recent call last)",
      "Cell \u001b[1;32mIn[68], line 2\u001b[0m\n\u001b[0;32m      1\u001b[0m t1 \u001b[38;5;241m=\u001b[39m (\u001b[38;5;241m1\u001b[39m, \u001b[38;5;241m2\u001b[39m, \u001b[38;5;124m'\u001b[39m\u001b[38;5;124ma\u001b[39m\u001b[38;5;124m'\u001b[39m, \u001b[38;5;124m'\u001b[39m\u001b[38;5;124mb\u001b[39m\u001b[38;5;124m'\u001b[39m)\n\u001b[1;32m----> 2\u001b[0m \u001b[38;5;28;01mdel\u001b[39;00m t1[\u001b[38;5;241m0\u001b[39m]\n",
      "\u001b[1;31mTypeError\u001b[0m: 'tuple' object doesn't support item deletion"
     ]
    }
   ],
   "source": [
    "t1 = (1, 2, 'a', 'b')\n",
    "del t1[0]"
   ]
  },
  {
   "cell_type": "code",
   "execution_count": 69,
   "id": "41778704-4437-4510-8405-f44c10fba727",
   "metadata": {},
   "outputs": [
    {
     "ename": "TypeError",
     "evalue": "'tuple' object does not support item assignment",
     "output_type": "error",
     "traceback": [
      "\u001b[1;31m---------------------------------------------------------------------------\u001b[0m",
      "\u001b[1;31mTypeError\u001b[0m                                 Traceback (most recent call last)",
      "Cell \u001b[1;32mIn[69], line 1\u001b[0m\n\u001b[1;32m----> 1\u001b[0m t1[\u001b[38;5;241m0\u001b[39m] \u001b[38;5;241m=\u001b[39m  \u001b[38;5;124m'\u001b[39m\u001b[38;5;124mc\u001b[39m\u001b[38;5;124m'\u001b[39m\n",
      "\u001b[1;31mTypeError\u001b[0m: 'tuple' object does not support item assignment"
     ]
    }
   ],
   "source": [
    "t1[0] =  'c'"
   ]
  },
  {
   "cell_type": "markdown",
   "id": "f5eb31b3-8f38-4dfd-8403-e3b3d3895135",
   "metadata": {},
   "source": [
    "# 튜플 다루기"
   ]
  },
  {
   "cell_type": "code",
   "execution_count": 70,
   "id": "590acbec-7b48-4a8a-abc7-2efa9c60664c",
   "metadata": {},
   "outputs": [
    {
     "data": {
      "text/plain": [
       "(1, 'b')"
      ]
     },
     "execution_count": 70,
     "metadata": {},
     "output_type": "execute_result"
    }
   ],
   "source": [
    "# 인텍싱\n",
    "t1 = (1, 2, 'a', 'b')\n",
    "t1[0], t1[3]\n",
    "\n",
    "##조회는 가능하다"
   ]
  },
  {
   "cell_type": "code",
   "execution_count": 72,
   "id": "617282fb-b2be-4fdb-a749-b02deb07c539",
   "metadata": {},
   "outputs": [
    {
     "data": {
      "text/plain": [
       "(2, 'a', 'b')"
      ]
     },
     "execution_count": 72,
     "metadata": {},
     "output_type": "execute_result"
    }
   ],
   "source": [
    "t1 = (1, 2, 'a', 'b')\n",
    "t1[1:]"
   ]
  },
  {
   "cell_type": "code",
   "execution_count": 71,
   "id": "ab956260-8cbd-43a6-bb05-d128e2d87290",
   "metadata": {},
   "outputs": [
    {
     "data": {
      "text/plain": [
       "(1, 2, 'a', 'b', 3, 4)"
      ]
     },
     "execution_count": 71,
     "metadata": {},
     "output_type": "execute_result"
    }
   ],
   "source": [
    "# 튜플 더하기\n",
    "t1 = (1, 2, 'a', 'b')\n",
    "t2 = (3, 4)\n",
    "t3 = t1 + t2\n",
    "t3"
   ]
  },
  {
   "cell_type": "code",
   "execution_count": 73,
   "id": "5e7b619e-b0c0-4fd9-8fdd-81c4bac11499",
   "metadata": {},
   "outputs": [
    {
     "data": {
      "text/plain": [
       "(3, 4, 3, 4, 3, 4)"
      ]
     },
     "execution_count": 73,
     "metadata": {},
     "output_type": "execute_result"
    }
   ],
   "source": [
    "# 튜플 곱하기\n",
    "t3 = t2*3\n",
    "t3\n",
    "\n",
    "## 산수 계산 X -> array로 요소 별 연산을 해야 함"
   ]
  },
  {
   "cell_type": "code",
   "execution_count": 75,
   "id": "6c158f23-4fec-4547-aefb-c71a4d0de185",
   "metadata": {},
   "outputs": [
    {
     "data": {
      "text/plain": [
       "4"
      ]
     },
     "execution_count": 75,
     "metadata": {},
     "output_type": "execute_result"
    }
   ],
   "source": [
    "# 튜플 길이 구하기\n",
    "t1 = (1, 2, 'a', 'b')\n",
    "len(t1)"
   ]
  },
  {
   "cell_type": "markdown",
   "id": "11432e8c-8714-4d47-a829-28c65f4b54c5",
   "metadata": {},
   "source": [
    "# 딕셔너리 자료형\n",
    "* 키와 value로 이루어진 중괄호로 구분한다\n",
    "* 대응관계를 나타낼 수 있다\n",
    "* 연관 배열 or hash 라고도 한다\n",
    "* 리스트나 튜플 처럼 순차적 X\n",
    "* key를 통해 value를 얻는다"
   ]
  },
  {
   "cell_type": "code",
   "execution_count": 76,
   "id": "6f45f11e-7d62-4fc9-a8a1-f1e58f2d4393",
   "metadata": {},
   "outputs": [],
   "source": [
    "dic = {'name': 'pey', 'phone': '010-9999-1234', 'birth': '1118'}"
   ]
  },
  {
   "cell_type": "markdown",
   "id": "1290cff9-361d-4adf-8b82-b96d8414180f",
   "metadata": {},
   "source": [
    "## 딕셔러니 쌍 추가하기"
   ]
  },
  {
   "cell_type": "code",
   "execution_count": 78,
   "id": "bdaa0a3d-2356-4b3d-9a2d-3bab99c36973",
   "metadata": {},
   "outputs": [
    {
     "data": {
      "text/plain": [
       "{1: 'hi', 2: 'b'}"
      ]
     },
     "execution_count": 78,
     "metadata": {},
     "output_type": "execute_result"
    }
   ],
   "source": [
    "a = {1: 'hi'}\n",
    "a[2] = 'b'\n",
    "a"
   ]
  },
  {
   "cell_type": "code",
   "execution_count": 79,
   "id": "4a9b654d-5a34-4f23-8bb5-3f7396b70554",
   "metadata": {},
   "outputs": [
    {
     "data": {
      "text/plain": [
       "{1: 'hi', 2: 'b', 'name': 'pey'}"
      ]
     },
     "execution_count": 79,
     "metadata": {},
     "output_type": "execute_result"
    }
   ],
   "source": [
    "a['name'] = 'pey'\n",
    "a"
   ]
  },
  {
   "cell_type": "code",
   "execution_count": 80,
   "id": "2a4bb51d-ece1-4779-b8f5-ccbbc723da25",
   "metadata": {},
   "outputs": [
    {
     "data": {
      "text/plain": [
       "{1: 'hi', 2: 'b', 'name': 'pey', 3: [1, 2, 3]}"
      ]
     },
     "execution_count": 80,
     "metadata": {},
     "output_type": "execute_result"
    }
   ],
   "source": [
    "a[3] = [1, 2, 3]\n",
    "a"
   ]
  },
  {
   "cell_type": "markdown",
   "id": "c45839be-850f-471b-acac-f16b435a696e",
   "metadata": {},
   "source": [
    "## 딕셔너리 요소 삭제하기"
   ]
  },
  {
   "cell_type": "code",
   "execution_count": 81,
   "id": "718a7687-b90f-45c2-8dbb-46507ef73951",
   "metadata": {},
   "outputs": [
    {
     "data": {
      "text/plain": [
       "{2: 'b', 'name': 'pey', 3: [1, 2, 3]}"
      ]
     },
     "execution_count": 81,
     "metadata": {},
     "output_type": "execute_result"
    }
   ],
   "source": [
    "del a[1]\n",
    "a"
   ]
  },
  {
   "cell_type": "markdown",
   "id": "72371bb3-69d4-4de4-926e-32b729e77030",
   "metadata": {},
   "source": [
    "## 딕셔너리에서 key를 사용하여 value 얻기"
   ]
  },
  {
   "cell_type": "code",
   "execution_count": 84,
   "id": "a5d99171-5cf3-4fb2-8fd0-f003cc7ce0e5",
   "metadata": {},
   "outputs": [
    {
     "data": {
      "text/plain": [
       "10"
      ]
     },
     "execution_count": 84,
     "metadata": {},
     "output_type": "execute_result"
    }
   ],
   "source": [
    "grade = {'pey': 10, 'julliet': 99}\n",
    "grade['pey']\n",
    "\n",
    "#value로는 조회가 불가능하다"
   ]
  },
  {
   "cell_type": "code",
   "execution_count": 86,
   "id": "2e093e06-b12e-4667-a72b-93f61fe02650",
   "metadata": {},
   "outputs": [
    {
     "data": {
      "text/plain": [
       "('pey', '010-9999-1234', '1118')"
      ]
     },
     "execution_count": 86,
     "metadata": {},
     "output_type": "execute_result"
    }
   ],
   "source": [
    "dic = {'name': 'pey', 'phone': '010-9999-1234', 'birth': '1118'}\n",
    "dic['name'], dic['phone'], dic['birth']"
   ]
  },
  {
   "cell_type": "markdown",
   "id": "a4effa35-c3f6-481b-9868-33d6fe68c651",
   "metadata": {},
   "source": [
    "## 딕셔너리 주의 사항"
   ]
  },
  {
   "cell_type": "code",
   "execution_count": 88,
   "id": "78af86b0-1474-45b8-8582-f77f287c5435",
   "metadata": {},
   "outputs": [
    {
     "data": {
      "text/plain": [
       "{1: 'b'}"
      ]
     },
     "execution_count": 88,
     "metadata": {},
     "output_type": "execute_result"
    }
   ],
   "source": [
    "a = {1:'a', 1:'b'}\n",
    "a\n",
    "\n",
    "#중복이면 마지막 정보만 유지"
   ]
  },
  {
   "cell_type": "code",
   "execution_count": 89,
   "id": "e766b83c-e0be-43fe-8ecc-d14c1db8e412",
   "metadata": {},
   "outputs": [
    {
     "data": {
      "text/plain": [
       "{1: 'c'}"
      ]
     },
     "execution_count": 89,
     "metadata": {},
     "output_type": "execute_result"
    }
   ],
   "source": [
    "a[1] = 'c'\n",
    "a"
   ]
  },
  {
   "cell_type": "code",
   "execution_count": 90,
   "id": "7b779a48-4d16-4734-ad47-517851cbc171",
   "metadata": {},
   "outputs": [
    {
     "ename": "TypeError",
     "evalue": "unhashable type: 'list'",
     "output_type": "error",
     "traceback": [
      "\u001b[1;31m---------------------------------------------------------------------------\u001b[0m",
      "\u001b[1;31mTypeError\u001b[0m                                 Traceback (most recent call last)",
      "Cell \u001b[1;32mIn[90], line 1\u001b[0m\n\u001b[1;32m----> 1\u001b[0m a \u001b[38;5;241m=\u001b[39m {[\u001b[38;5;241m1\u001b[39m,\u001b[38;5;241m2\u001b[39m] : \u001b[38;5;124m'\u001b[39m\u001b[38;5;124mhi\u001b[39m\u001b[38;5;124m'\u001b[39m}\n",
      "\u001b[1;31mTypeError\u001b[0m: unhashable type: 'list'"
     ]
    }
   ],
   "source": [
    "a = {[1,2] : 'hi'}\n",
    "#key에 리스트는 들어갈 수 없다"
   ]
  },
  {
   "cell_type": "markdown",
   "id": "151ed03f-7cf0-4569-827c-450a2cab2717",
   "metadata": {},
   "source": [
    "## 딕셔너리 관련 함수"
   ]
  },
  {
   "cell_type": "markdown",
   "id": "8a6bdf00-6100-45e6-936c-cb32777c926e",
   "metadata": {},
   "source": [
    "### keys"
   ]
  },
  {
   "cell_type": "code",
   "execution_count": null,
   "id": "8cafdfb8-d2b4-4725-ae72-16db9be42caa",
   "metadata": {},
   "outputs": [],
   "source": [
    "a.keys"
   ]
  },
  {
   "cell_type": "code",
   "execution_count": 92,
   "id": "d814db2b-bcd2-4c1b-b553-27bc63d91162",
   "metadata": {},
   "outputs": [
    {
     "data": {
      "text/plain": [
       "(str, list, tuple, dict)"
      ]
     },
     "execution_count": 92,
     "metadata": {},
     "output_type": "execute_result"
    }
   ],
   "source": [
    "a1 = 'str'\n",
    "a2 = [1,2,3]\n",
    "a3 = (1,)\n",
    "a4 = {1:'a'}\n",
    "type(a1), type(a2), type(a3), type(a4)\n",
    "\n",
    "# 각 자료형에 대해 tab을 누르면 해당 자료에 대한 함수가 나온다"
   ]
  },
  {
   "cell_type": "code",
   "execution_count": 93,
   "id": "9fcab6bb-a5f1-4ef7-890e-c09096fc6e6c",
   "metadata": {},
   "outputs": [
    {
     "data": {
      "text/plain": [
       "dict_keys(['name', 'phone', 'birth'])"
      ]
     },
     "execution_count": 93,
     "metadata": {},
     "output_type": "execute_result"
    }
   ],
   "source": [
    "a = {'name': 'pey', 'phone': '010-9999-1234', 'birth': '1118'}\n",
    "a.keys() # -> 키들만 조회하기"
   ]
  },
  {
   "cell_type": "code",
   "execution_count": 94,
   "id": "9afb8a47-afbd-49c4-9c87-b10da8fde751",
   "metadata": {},
   "outputs": [
    {
     "name": "stdout",
     "output_type": "stream",
     "text": [
      "name\n",
      "phone\n",
      "birth\n"
     ]
    }
   ],
   "source": [
    "for k in a.keys():\n",
    "    print(k)"
   ]
  },
  {
   "cell_type": "markdown",
   "id": "ca4889c4-673b-476c-b650-8f0788799145",
   "metadata": {},
   "source": [
    "### values"
   ]
  },
  {
   "cell_type": "code",
   "execution_count": 95,
   "id": "ac48db4b-c0cc-467f-8bfc-8f3ffb644892",
   "metadata": {},
   "outputs": [
    {
     "data": {
      "text/plain": [
       "dict_values(['pey', '010-9999-1234', '1118'])"
      ]
     },
     "execution_count": 95,
     "metadata": {},
     "output_type": "execute_result"
    }
   ],
   "source": [
    "a.values()"
   ]
  },
  {
   "cell_type": "markdown",
   "id": "b206e5ca-9b4e-40c9-bc1a-8ed5c64283f7",
   "metadata": {},
   "source": [
    "### items"
   ]
  },
  {
   "cell_type": "code",
   "execution_count": 96,
   "id": "d8f67a09-41cc-4e29-a2d5-78d3ad194e5b",
   "metadata": {},
   "outputs": [
    {
     "data": {
      "text/plain": [
       "dict_items([('name', 'pey'), ('phone', '010-9999-1234'), ('birth', '1118')])"
      ]
     },
     "execution_count": 96,
     "metadata": {},
     "output_type": "execute_result"
    }
   ],
   "source": [
    "a.items()"
   ]
  },
  {
   "cell_type": "markdown",
   "id": "fc42ca7b-2b4e-405c-a4f8-1dc1d91771a9",
   "metadata": {},
   "source": [
    "### clear"
   ]
  },
  {
   "cell_type": "code",
   "execution_count": 98,
   "id": "eb093d24-da7f-4a71-ba0e-e06de2780e86",
   "metadata": {},
   "outputs": [
    {
     "data": {
      "text/plain": [
       "{}"
      ]
     },
     "execution_count": 98,
     "metadata": {},
     "output_type": "execute_result"
    }
   ],
   "source": [
    "a.clear()\n",
    "a"
   ]
  },
  {
   "cell_type": "markdown",
   "id": "41f9fa5f-bf98-4064-a537-788c821cfd57",
   "metadata": {},
   "source": [
    "### get"
   ]
  },
  {
   "cell_type": "code",
   "execution_count": 99,
   "id": "3625b278-1b70-4df9-86b6-dae0917735ca",
   "metadata": {},
   "outputs": [
    {
     "data": {
      "text/plain": [
       "'pey'"
      ]
     },
     "execution_count": 99,
     "metadata": {},
     "output_type": "execute_result"
    }
   ],
   "source": [
    "a = {'name': 'pey', 'phone': '010-9999-1234', 'birth': '1118'}\n",
    "a.get('name')"
   ]
  },
  {
   "cell_type": "code",
   "execution_count": 101,
   "id": "2e6b0d41-b989-43f6-b746-fedc43f6b159",
   "metadata": {},
   "outputs": [
    {
     "data": {
      "text/plain": [
       "'pey'"
      ]
     },
     "execution_count": 101,
     "metadata": {},
     "output_type": "execute_result"
    }
   ],
   "source": [
    "a['name']\n",
    "# indexing -> 에러 , 함수 -> 에라 안남"
   ]
  },
  {
   "cell_type": "markdown",
   "id": "7e9c15be-1bc9-479c-86b3-e2d3c04aa28c",
   "metadata": {},
   "source": [
    "### in"
   ]
  },
  {
   "cell_type": "code",
   "execution_count": 102,
   "id": "65970636-dc8c-45e8-8674-a1eeb78468a7",
   "metadata": {},
   "outputs": [
    {
     "data": {
      "text/plain": [
       "True"
      ]
     },
     "execution_count": 102,
     "metadata": {},
     "output_type": "execute_result"
    }
   ],
   "source": [
    "'name' in a"
   ]
  },
  {
   "cell_type": "code",
   "execution_count": 103,
   "id": "07d81a91-a056-472b-bb92-8722c5214f4a",
   "metadata": {},
   "outputs": [
    {
     "data": {
      "text/plain": [
       "False"
      ]
     },
     "execution_count": 103,
     "metadata": {},
     "output_type": "execute_result"
    }
   ],
   "source": [
    "'email' in a"
   ]
  },
  {
   "cell_type": "markdown",
   "id": "d40e6ce9-ab2c-439c-8896-7a8124ae2488",
   "metadata": {},
   "source": [
    "# 집합 자료형\n",
    "* 순서가 없다\n",
    "* 인덱싱을 통해 요소 값을 얻을 수가 없다\n",
    "* 필터링 목적으로만 거의 쓰인다"
   ]
  },
  {
   "cell_type": "code",
   "execution_count": 104,
   "id": "da9c5a7f-5066-4785-a85c-599804286d5e",
   "metadata": {},
   "outputs": [
    {
     "data": {
      "text/plain": [
       "({1, 2, 3}, set)"
      ]
     },
     "execution_count": 104,
     "metadata": {},
     "output_type": "execute_result"
    }
   ],
   "source": [
    "s1 = set([1, 2, 3])\n",
    "s1, type(s1)"
   ]
  },
  {
   "cell_type": "code",
   "execution_count": 108,
   "id": "ce99ce61-641e-4477-9575-09ceba6b6326",
   "metadata": {},
   "outputs": [
    {
     "data": {
      "text/plain": [
       "({'H', 'e', 'l', 'o'}, set)"
      ]
     },
     "execution_count": 108,
     "metadata": {},
     "output_type": "execute_result"
    }
   ],
   "source": [
    "s2 = set(\"Hello\")\n",
    "s2, type(s2)"
   ]
  },
  {
   "cell_type": "code",
   "execution_count": 109,
   "id": "411447ad-ae18-4ad0-b231-48d4446e7e15",
   "metadata": {},
   "outputs": [
    {
     "data": {
      "text/plain": [
       "((1, 2, 3), 1)"
      ]
     },
     "execution_count": 109,
     "metadata": {},
     "output_type": "execute_result"
    }
   ],
   "source": [
    "t1 = tuple(s1)\n",
    "t1, t1[0]"
   ]
  },
  {
   "cell_type": "markdown",
   "id": "d6beed73-42bd-4f48-8255-aaf3ca2af78b",
   "metadata": {},
   "source": [
    "## 교집합, 합집합, 차집합 구하기"
   ]
  },
  {
   "cell_type": "code",
   "execution_count": 110,
   "id": "63b16f87-e4b0-445d-b8fc-7e3577de165c",
   "metadata": {},
   "outputs": [],
   "source": [
    "s1 = set([1, 2, 3, 4, 5, 6])\n",
    "s2 = set([4, 5, 6, 7, 8, 9])"
   ]
  },
  {
   "cell_type": "markdown",
   "id": "9851abe7-92be-4569-b038-076d30bf81cf",
   "metadata": {},
   "source": [
    "### 교집합"
   ]
  },
  {
   "cell_type": "code",
   "execution_count": 111,
   "id": "a773e704-7771-43bc-85bd-d59f24ff5992",
   "metadata": {},
   "outputs": [
    {
     "data": {
      "text/plain": [
       "{4, 5, 6}"
      ]
     },
     "execution_count": 111,
     "metadata": {},
     "output_type": "execute_result"
    }
   ],
   "source": [
    "s1 & s2"
   ]
  },
  {
   "cell_type": "code",
   "execution_count": 112,
   "id": "5a9c935d-348b-4813-8776-bbc2472578db",
   "metadata": {},
   "outputs": [
    {
     "data": {
      "text/plain": [
       "{4, 5, 6}"
      ]
     },
     "execution_count": 112,
     "metadata": {},
     "output_type": "execute_result"
    }
   ],
   "source": [
    "s1.intersection(s2)"
   ]
  },
  {
   "cell_type": "markdown",
   "id": "c1bf674e-7638-423f-959e-f75a5ed23f67",
   "metadata": {},
   "source": [
    "### 합집합\n",
    "* 중복이 제거됨"
   ]
  },
  {
   "cell_type": "code",
   "execution_count": 114,
   "id": "f42a4f01-3d0f-495b-8452-d4c3afb7c78c",
   "metadata": {},
   "outputs": [
    {
     "data": {
      "text/plain": [
       "{1, 2, 3, 4, 5, 6, 7, 8, 9}"
      ]
     },
     "execution_count": 114,
     "metadata": {},
     "output_type": "execute_result"
    }
   ],
   "source": [
    "s1 | s2"
   ]
  },
  {
   "cell_type": "code",
   "execution_count": 115,
   "id": "58872dc0-b93a-4b37-80f3-d8e14d28aabd",
   "metadata": {},
   "outputs": [
    {
     "data": {
      "text/plain": [
       "{1, 2, 3, 4, 5, 6, 7, 8, 9}"
      ]
     },
     "execution_count": 115,
     "metadata": {},
     "output_type": "execute_result"
    }
   ],
   "source": [
    "s1.union(s2)"
   ]
  },
  {
   "cell_type": "markdown",
   "id": "07f522db-f57c-4b59-9572-0c18ba963451",
   "metadata": {},
   "source": [
    "### 차집합"
   ]
  },
  {
   "cell_type": "code",
   "execution_count": 116,
   "id": "845269a9-3e54-4e39-a335-b63eedf77e95",
   "metadata": {},
   "outputs": [
    {
     "data": {
      "text/plain": [
       "{1, 2, 3}"
      ]
     },
     "execution_count": 116,
     "metadata": {},
     "output_type": "execute_result"
    }
   ],
   "source": [
    "s1 - s2"
   ]
  },
  {
   "cell_type": "code",
   "execution_count": 117,
   "id": "94ef049e-3507-4be9-8982-2cd17612d89f",
   "metadata": {},
   "outputs": [
    {
     "data": {
      "text/plain": [
       "{7, 8, 9}"
      ]
     },
     "execution_count": 117,
     "metadata": {},
     "output_type": "execute_result"
    }
   ],
   "source": [
    "s2 - s1"
   ]
  },
  {
   "cell_type": "code",
   "execution_count": 118,
   "id": "ae30be1a-2932-4662-9642-b4bbdf07e94f",
   "metadata": {},
   "outputs": [
    {
     "data": {
      "text/plain": [
       "{1, 2, 3}"
      ]
     },
     "execution_count": 118,
     "metadata": {},
     "output_type": "execute_result"
    }
   ],
   "source": [
    "s1.difference(s2)"
   ]
  },
  {
   "cell_type": "code",
   "execution_count": 119,
   "id": "ebafc30d-a7ed-492b-8fcb-339a01d742e8",
   "metadata": {},
   "outputs": [
    {
     "data": {
      "text/plain": [
       "{7, 8, 9}"
      ]
     },
     "execution_count": 119,
     "metadata": {},
     "output_type": "execute_result"
    }
   ],
   "source": [
    "s2.difference(s1)"
   ]
  },
  {
   "cell_type": "markdown",
   "id": "323e9e7a-c64b-41eb-bf06-7a7bfc14777c",
   "metadata": {},
   "source": [
    "## 집합 자료형 관련 함수"
   ]
  },
  {
   "cell_type": "markdown",
   "id": "cacb0026-56f5-4d4c-9626-ad3ab1f7bdf3",
   "metadata": {},
   "source": [
    "### add"
   ]
  },
  {
   "cell_type": "code",
   "execution_count": 120,
   "id": "3402b562-e30c-4533-90f3-a40adb035ad4",
   "metadata": {},
   "outputs": [
    {
     "data": {
      "text/plain": [
       "{1, 2, 3, 4}"
      ]
     },
     "execution_count": 120,
     "metadata": {},
     "output_type": "execute_result"
    }
   ],
   "source": [
    "s1 = set([1, 2, 3])\n",
    "s1.add(4)\n",
    "s1"
   ]
  },
  {
   "cell_type": "code",
   "execution_count": 121,
   "id": "264d09f4-3dd9-4fb4-806b-91ba537c1322",
   "metadata": {},
   "outputs": [
    {
     "data": {
      "text/plain": [
       "{1, 2, 3, 4, 5, 6}"
      ]
     },
     "execution_count": 121,
     "metadata": {},
     "output_type": "execute_result"
    }
   ],
   "source": [
    "s1 = set([1, 2, 3])\n",
    "s1.update([4, 5, 6])\n",
    "s1"
   ]
  },
  {
   "cell_type": "markdown",
   "id": "4331d747-da24-442c-aaa5-b441c90ffa54",
   "metadata": {},
   "source": [
    "### remove"
   ]
  },
  {
   "cell_type": "code",
   "execution_count": 122,
   "id": "1b7e7ed0-664d-4eb6-9e37-10d4958092f5",
   "metadata": {},
   "outputs": [
    {
     "data": {
      "text/plain": [
       "{1, 3}"
      ]
     },
     "execution_count": 122,
     "metadata": {},
     "output_type": "execute_result"
    }
   ],
   "source": [
    "s1 = set([1, 2, 3])\n",
    "s1.remove(2)\n",
    "s1"
   ]
  },
  {
   "cell_type": "markdown",
   "id": "61c6d375-3524-4e3d-94c5-e1d28a2d3028",
   "metadata": {},
   "source": [
    "# 불 자료형(논리)\n",
    "* boolean\n",
    "* True와 False\n",
    "* 비교 연산과 조건문으로 많이 사용"
   ]
  },
  {
   "cell_type": "code",
   "execution_count": 123,
   "id": "106145be-8979-4849-afeb-678228e71ae7",
   "metadata": {},
   "outputs": [
    {
     "data": {
      "text/plain": [
       "(bool, bool)"
      ]
     },
     "execution_count": 123,
     "metadata": {},
     "output_type": "execute_result"
    }
   ],
   "source": [
    "a = True\n",
    "b = False\n",
    "type(a), type(b)"
   ]
  },
  {
   "cell_type": "code",
   "execution_count": 124,
   "id": "60005bea-d928-4269-a9d3-5ce730adff8d",
   "metadata": {},
   "outputs": [
    {
     "data": {
      "text/plain": [
       "True"
      ]
     },
     "execution_count": 124,
     "metadata": {},
     "output_type": "execute_result"
    }
   ],
   "source": [
    "1 == 1"
   ]
  },
  {
   "cell_type": "code",
   "execution_count": 125,
   "id": "95b63cc4-1149-425e-8f9f-58cf7eff481d",
   "metadata": {},
   "outputs": [
    {
     "data": {
      "text/plain": [
       "True"
      ]
     },
     "execution_count": 125,
     "metadata": {},
     "output_type": "execute_result"
    }
   ],
   "source": [
    "2 > 1"
   ]
  },
  {
   "cell_type": "code",
   "execution_count": 126,
   "id": "e22f72fb-005b-4c93-9df0-6dab944a5558",
   "metadata": {},
   "outputs": [
    {
     "data": {
      "text/plain": [
       "False"
      ]
     },
     "execution_count": 126,
     "metadata": {},
     "output_type": "execute_result"
    }
   ],
   "source": [
    "2 < 1"
   ]
  },
  {
   "cell_type": "code",
   "execution_count": 130,
   "id": "332b7d4a-27ac-41a7-aae5-3fc4aaf8bf8e",
   "metadata": {},
   "outputs": [
    {
     "data": {
      "text/plain": [
       "\u001b[1;31mType:\u001b[0m        bool\n",
       "\u001b[1;31mString form:\u001b[0m True\n",
       "\u001b[1;31mNamespace:\u001b[0m   Python builtin\n",
       "\u001b[1;31mDocstring:\u001b[0m  \n",
       "bool(x) -> bool\n",
       "\n",
       "Returns True when the argument x is true, False otherwise.\n",
       "The builtins True and False are the only two instances of the class bool.\n",
       "The class bool is a subclass of the class int, and cannot be subclassed."
      ]
     },
     "metadata": {},
     "output_type": "display_data"
    }
   ],
   "source": []
  },
  {
   "cell_type": "code",
   "execution_count": 136,
   "id": "481e5913-4a28-47bc-87a4-af6d43aa5d52",
   "metadata": {},
   "outputs": [
    {
     "name": "stdout",
     "output_type": "stream",
     "text": [
      "4\n",
      "3\n",
      "2\n",
      "1\n"
     ]
    }
   ],
   "source": [
    "a = [1, 2, 3, 4]\n",
    "while a:\n",
    "    print(a.pop()) # 맨마자먹의 요소를 추출하고 삭제 -> 원본 삭제"
   ]
  },
  {
   "cell_type": "code",
   "execution_count": 139,
   "id": "43e877fa-e654-4371-9344-2e6dce3760f3",
   "metadata": {},
   "outputs": [
    {
     "name": "stdout",
     "output_type": "stream",
     "text": [
      "거짓\n"
     ]
    }
   ],
   "source": [
    "if []:\n",
    "    print(\"참\")\n",
    "else:\n",
    "    print(\"거짓\")"
   ]
  },
  {
   "cell_type": "code",
   "execution_count": 140,
   "id": "3242a83c-58ab-43a0-8a29-57f90430575d",
   "metadata": {},
   "outputs": [
    {
     "name": "stdout",
     "output_type": "stream",
     "text": [
      "참\n"
     ]
    }
   ],
   "source": [
    "if [1,2,3]:\n",
    "    print(\"참\")\n",
    "else:\n",
    "    print(\"거짓\")"
   ]
  },
  {
   "cell_type": "markdown",
   "id": "f220f782-67e2-4844-9c5c-e2f792faddfc",
   "metadata": {},
   "source": [
    "## 불 연산"
   ]
  },
  {
   "cell_type": "code",
   "execution_count": 142,
   "id": "238bd582-1c11-462c-ba42-998d5070866a",
   "metadata": {},
   "outputs": [
    {
     "data": {
      "text/plain": [
       "True"
      ]
     },
     "execution_count": 142,
     "metadata": {},
     "output_type": "execute_result"
    }
   ],
   "source": [
    "bool('python')"
   ]
  },
  {
   "cell_type": "code",
   "execution_count": 143,
   "id": "40533764-a533-4c13-92dc-8dc86183f2a7",
   "metadata": {},
   "outputs": [
    {
     "data": {
      "text/plain": [
       "False"
      ]
     },
     "execution_count": 143,
     "metadata": {},
     "output_type": "execute_result"
    }
   ],
   "source": [
    "bool('')"
   ]
  },
  {
   "cell_type": "code",
   "execution_count": 144,
   "id": "7610e323-ebea-4401-be46-e731c4647fa5",
   "metadata": {},
   "outputs": [
    {
     "data": {
      "text/plain": [
       "False"
      ]
     },
     "execution_count": 144,
     "metadata": {},
     "output_type": "execute_result"
    }
   ],
   "source": [
    "bool(0)"
   ]
  },
  {
   "cell_type": "code",
   "execution_count": 145,
   "id": "4e9516da-9785-4aef-8ea0-14b1bfd73517",
   "metadata": {},
   "outputs": [
    {
     "data": {
      "text/plain": [
       "True"
      ]
     },
     "execution_count": 145,
     "metadata": {},
     "output_type": "execute_result"
    }
   ],
   "source": [
    "bool(3)"
   ]
  }
 ],
 "metadata": {
  "kernelspec": {
   "display_name": "Python 3 (ipykernel)",
   "language": "python",
   "name": "python3"
  },
  "language_info": {
   "codemirror_mode": {
    "name": "ipython",
    "version": 3
   },
   "file_extension": ".py",
   "mimetype": "text/x-python",
   "name": "python",
   "nbconvert_exporter": "python",
   "pygments_lexer": "ipython3",
   "version": "3.10.9"
  }
 },
 "nbformat": 4,
 "nbformat_minor": 5
}
