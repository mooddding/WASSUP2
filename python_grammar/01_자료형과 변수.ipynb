{
 "cells": [
  {
   "cell_type": "markdown",
   "id": "87c1ac98-caf3-4ca1-8411-651742944787",
   "metadata": {
    "tags": []
   },
   "source": [
    "# 숫자형"
   ]
  },
  {
   "cell_type": "code",
   "execution_count": 8,
   "id": "abcb02ee-ac5b-4d67-b630-c626b7a93795",
   "metadata": {},
   "outputs": [
    {
     "data": {
      "text/plain": [
       "0"
      ]
     },
     "execution_count": 8,
     "metadata": {},
     "output_type": "execute_result"
    }
   ],
   "source": [
    "a = 123\n",
    "a = -178\n",
    "a = 0\n",
    "a"
   ]
  },
  {
   "cell_type": "code",
   "execution_count": 7,
   "id": "9099f67b-f417-4a5d-bee8-4bddfbfd8336",
   "metadata": {},
   "outputs": [
    {
     "data": {
      "text/plain": [
       "-3.45"
      ]
     },
     "execution_count": 7,
     "metadata": {},
     "output_type": "execute_result"
    }
   ],
   "source": [
    "a = 1.2\n",
    "a = -3.45\n",
    "a"
   ]
  },
  {
   "cell_type": "code",
   "execution_count": 9,
   "id": "492f535a-df74-4116-8047-1c813ee9e841",
   "metadata": {},
   "outputs": [
    {
     "data": {
      "text/plain": [
       "42400000000.0"
      ]
     },
     "execution_count": 9,
     "metadata": {},
     "output_type": "execute_result"
    }
   ],
   "source": [
    "a = 4.24E10\n",
    "# a = 4.24e-10\n",
    "a"
   ]
  },
  {
   "cell_type": "code",
   "execution_count": 4,
   "id": "10bda63c-cfc4-4fc2-9388-b0dff7532c6f",
   "metadata": {},
   "outputs": [
    {
     "name": "stdout",
     "output_type": "stream",
     "text": [
      "127\n"
     ]
    }
   ],
   "source": [
    "a = 0o177\n",
    "print(a)"
   ]
  },
  {
   "cell_type": "code",
   "execution_count": 5,
   "id": "7462dbcf-3aac-45fa-95f9-b1a5bbfcae84",
   "metadata": {},
   "outputs": [
    {
     "name": "stdout",
     "output_type": "stream",
     "text": [
      "2748\n"
     ]
    }
   ],
   "source": [
    "a = 0x8ff\n",
    "b = 0xABC\n",
    "print(b)\n",
    "\n",
    "#프린트는 내장함수 그냥 변수 -> IDE의 편의 기능"
   ]
  },
  {
   "cell_type": "markdown",
   "id": "edd9ad7f-179b-4ee9-99c6-3b08738b7e6c",
   "metadata": {},
   "source": [
    "# 사칙연산"
   ]
  },
  {
   "cell_type": "code",
   "execution_count": 12,
   "id": "dd4c4ace-9117-4b92-9513-94714afcad41",
   "metadata": {},
   "outputs": [
    {
     "name": "stdout",
     "output_type": "stream",
     "text": [
      "7  -1  12  0.75\n"
     ]
    }
   ],
   "source": [
    "a = 3\n",
    "b = 4\n",
    "print(a + b,\"\" ,a - b, \"\",a * b, \"\",a/b)"
   ]
  },
  {
   "cell_type": "markdown",
   "id": "5852d3ac-c96a-4640-b542-bea755978b49",
   "metadata": {},
   "source": [
    "# 제곱 연산"
   ]
  },
  {
   "cell_type": "code",
   "execution_count": 13,
   "id": "7a8c5040-9ae2-42f8-9658-c53a9789cdf6",
   "metadata": {},
   "outputs": [
    {
     "data": {
      "text/plain": [
       "81"
      ]
     },
     "execution_count": 13,
     "metadata": {},
     "output_type": "execute_result"
    }
   ],
   "source": [
    "a = 3\n",
    "b = 4\n",
    "a**b"
   ]
  },
  {
   "cell_type": "markdown",
   "id": "78727a8e-8865-47f8-b261-e96754f815dc",
   "metadata": {},
   "source": [
    "# 나눗셈 나머지 연산"
   ]
  },
  {
   "cell_type": "code",
   "execution_count": 16,
   "id": "a4ed99a1-4866-47a7-87bb-a3a5a1069a1e",
   "metadata": {},
   "outputs": [
    {
     "data": {
      "text/plain": [
       "1"
      ]
     },
     "execution_count": 16,
     "metadata": {},
     "output_type": "execute_result"
    }
   ],
   "source": [
    "7 % 3"
   ]
  },
  {
   "cell_type": "code",
   "execution_count": 17,
   "id": "ed9e9159-b179-4fec-b099-c5cbf2dfc4fe",
   "metadata": {},
   "outputs": [
    {
     "data": {
      "text/plain": [
       "3"
      ]
     },
     "execution_count": 17,
     "metadata": {},
     "output_type": "execute_result"
    }
   ],
   "source": [
    "3 % 7"
   ]
  },
  {
   "cell_type": "markdown",
   "id": "bfa7c069-eb0d-4033-be24-1763b0aa3ee1",
   "metadata": {},
   "source": [
    "# 나눗셈 몫 연산"
   ]
  },
  {
   "cell_type": "code",
   "execution_count": 18,
   "id": "0d7d1e72-db7b-4edb-bd3d-2d3f1fc8a3fd",
   "metadata": {},
   "outputs": [
    {
     "data": {
      "text/plain": [
       "1.75"
      ]
     },
     "execution_count": 18,
     "metadata": {},
     "output_type": "execute_result"
    }
   ],
   "source": [
    "7 / 4"
   ]
  },
  {
   "cell_type": "code",
   "execution_count": 19,
   "id": "55eb8f65-b582-4cab-9182-da227195bb71",
   "metadata": {},
   "outputs": [
    {
     "data": {
      "text/plain": [
       "1"
      ]
     },
     "execution_count": 19,
     "metadata": {},
     "output_type": "execute_result"
    }
   ],
   "source": [
    "7 // 4 #몫만 return"
   ]
  },
  {
   "cell_type": "markdown",
   "id": "f40b6265-e1ec-4578-bd21-a8e700aed162",
   "metadata": {},
   "source": [
    "# 문자열 자료형"
   ]
  },
  {
   "cell_type": "code",
   "execution_count": 20,
   "id": "30ffc6d0-d135-4223-87dc-08a79e7dd831",
   "metadata": {},
   "outputs": [
    {
     "data": {
      "text/plain": [
       "'Hello world'"
      ]
     },
     "execution_count": 20,
     "metadata": {},
     "output_type": "execute_result"
    }
   ],
   "source": [
    "\"Hello world\""
   ]
  },
  {
   "cell_type": "code",
   "execution_count": 21,
   "id": "5974a2dc-1f76-4c0b-9009-a150f79d1fdf",
   "metadata": {},
   "outputs": [
    {
     "data": {
      "text/plain": [
       "'Python is fun'"
      ]
     },
     "execution_count": 21,
     "metadata": {},
     "output_type": "execute_result"
    }
   ],
   "source": [
    "'Python is fun'"
   ]
  },
  {
   "cell_type": "code",
   "execution_count": 22,
   "id": "8f0ba507-fbc2-4922-8e73-2800b79ca749",
   "metadata": {},
   "outputs": [
    {
     "data": {
      "text/plain": [
       "'Hello world'"
      ]
     },
     "execution_count": 22,
     "metadata": {},
     "output_type": "execute_result"
    }
   ],
   "source": [
    "\"\"\"Hello world\"\"\""
   ]
  },
  {
   "cell_type": "code",
   "execution_count": 23,
   "id": "ae9dad33-ce47-4f3c-8a14-8910d9e79044",
   "metadata": {},
   "outputs": [
    {
     "data": {
      "text/plain": [
       "'Hello world'"
      ]
     },
     "execution_count": 23,
     "metadata": {},
     "output_type": "execute_result"
    }
   ],
   "source": [
    "'''Hello world'''"
   ]
  },
  {
   "cell_type": "markdown",
   "id": "b993769d-8b77-42aa-ad2a-186d12c0b1c6",
   "metadata": {},
   "source": [
    "# 문자열 안에 작은따옴표나 큰 따옴표를 포함시키고 싶을 때"
   ]
  },
  {
   "cell_type": "code",
   "execution_count": 28,
   "id": "1e53d74b-cc1e-4c44-a2a9-b71bc3fe3807",
   "metadata": {},
   "outputs": [],
   "source": [
    "food = \"Python's favorite food is perl\" \n",
    "# 따옴표의 종류가 많은 이유 문자열 중간에 ' 를 구분"
   ]
  },
  {
   "cell_type": "code",
   "execution_count": 25,
   "id": "a6eeb88e-92e0-4c2c-b820-fcd9c2c8b284",
   "metadata": {},
   "outputs": [
    {
     "data": {
      "text/plain": [
       "\"Python's favorite food is perl\""
      ]
     },
     "execution_count": 25,
     "metadata": {},
     "output_type": "execute_result"
    }
   ],
   "source": [
    "food"
   ]
  },
  {
   "cell_type": "code",
   "execution_count": 29,
   "id": "99e88e03-1b15-4f0b-a476-2f7ee3e625dd",
   "metadata": {},
   "outputs": [
    {
     "ename": "SyntaxError",
     "evalue": "invalid syntax (2498016959.py, line 1)",
     "output_type": "error",
     "traceback": [
      "\u001b[1;36m  Cell \u001b[1;32mIn[29], line 1\u001b[1;36m\u001b[0m\n\u001b[1;33m    \"Python is very easy.\" he says.\u001b[0m\n\u001b[1;37m                           ^\u001b[0m\n\u001b[1;31mSyntaxError\u001b[0m\u001b[1;31m:\u001b[0m invalid syntax\n"
     ]
    }
   ],
   "source": [
    "\"Python is very easy.\" he says."
   ]
  },
  {
   "cell_type": "code",
   "execution_count": 31,
   "id": "21785457-e468-4c1f-9d7a-97858890315d",
   "metadata": {},
   "outputs": [
    {
     "data": {
      "text/plain": [
       "'\"Python is very easy.\" he says.'"
      ]
     },
     "execution_count": 31,
     "metadata": {},
     "output_type": "execute_result"
    }
   ],
   "source": [
    "say = '\"Python is very easy.\" he says.'\n",
    "say"
   ]
  },
  {
   "cell_type": "markdown",
   "id": "a60ec1ca-32a1-4d99-a63d-2f9aea614538",
   "metadata": {},
   "source": [
    "# 역슬래시를 사용해서 작은따옴표와 큰따옴표를 문자열에 포함하기 -> Escape 코드"
   ]
  },
  {
   "cell_type": "code",
   "execution_count": 32,
   "id": "9372a6d7-64a7-4945-8bce-5dc12fc49d8b",
   "metadata": {},
   "outputs": [],
   "source": [
    "food = 'Python\\'s favorite food is perl'\n",
    "# 이것은 코드가 아니다 -> 앞에다가 /\n",
    "say = \"\\\"Python is very easy.\\\" he says.\""
   ]
  },
  {
   "cell_type": "code",
   "execution_count": 34,
   "id": "5d2b304a-f803-4e98-9af3-f226b5374ade",
   "metadata": {},
   "outputs": [
    {
     "name": "stdout",
     "output_type": "stream",
     "text": [
      "Python's favorite food is perl\n",
      "\"Python is very easy.\" he says.\n"
     ]
    }
   ],
   "source": [
    "print(food)\n",
    "print(say)"
   ]
  },
  {
   "cell_type": "markdown",
   "id": "4df291b3-f97f-41a1-b189-d3a6069efc46",
   "metadata": {},
   "source": [
    "# 여러 줄인 문자열을 변수에 대입하고 싶을 때\n"
   ]
  },
  {
   "cell_type": "code",
   "execution_count": 35,
   "id": "63cb65a8-35cf-448a-8706-f7449fa67a8d",
   "metadata": {},
   "outputs": [
    {
     "name": "stdout",
     "output_type": "stream",
     "text": [
      "Life is too short\n",
      "You need python\n"
     ]
    }
   ],
   "source": [
    "multiline = \"Life is too short\\nYou need python\"\n",
    "print(multiline)"
   ]
  },
  {
   "cell_type": "code",
   "execution_count": 37,
   "id": "4bf0e1b0-c08e-4d86-98ca-ed5965a92712",
   "metadata": {},
   "outputs": [
    {
     "name": "stdout",
     "output_type": "stream",
     "text": [
      " Life is too short\n",
      "You need python \n"
     ]
    }
   ],
   "source": [
    "multiline = \"\"\" Life is too short\n",
    "You need python \"\"\"\n",
    "print(multiline)"
   ]
  }
 ],
 "metadata": {
  "kernelspec": {
   "display_name": "Python 3 (ipykernel)",
   "language": "python",
   "name": "python3"
  },
  "language_info": {
   "codemirror_mode": {
    "name": "ipython",
    "version": 3
   },
   "file_extension": ".py",
   "mimetype": "text/x-python",
   "name": "python",
   "nbconvert_exporter": "python",
   "pygments_lexer": "ipython3",
   "version": "3.10.9"
  }
 },
 "nbformat": 4,
 "nbformat_minor": 5
}
